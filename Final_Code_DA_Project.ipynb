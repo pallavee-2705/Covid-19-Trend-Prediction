{
 "cells": [
  {
   "cell_type": "code",
   "execution_count": 195,
   "id": "072aec45",
   "metadata": {},
   "outputs": [],
   "source": [
    "import pandas as pd\n",
    "pd.options.display.max_columns = 500\n",
    "pd.options.display.max_rows = 500\n",
    "import numpy as np\n",
    "import matplotlib.pyplot as plt\n",
    "import seaborn as sns\n",
    "\n",
    "\n",
    "from keras.metrics.metrics import mean_squared_error\n",
    "from math import sqrt\n",
    "\n",
    "from matplotlib import pyplot as plt\n",
    "\n",
    "\n",
    "import pandas as pd\n",
    "import numpy as np\n",
    "import statsmodels.api as sm\n",
    "import warnings\n",
    "\n",
    "from math import sqrt\n",
    "from matplotlib import pyplot\n",
    "from sklearn.metrics import mean_squared_error\n",
    "from statsmodels.tsa.arima_model import ARIMA\n",
    "from statsmodels.tsa.ar_model import AutoReg\n",
    "from pmdarima import auto_arima\n",
    "\n",
    "from statsmodels.graphics.tsaplots import plot_pacf, plot_acf\n",
    "\n",
    "from sklearn.preprocessing import MinMaxScaler\n",
    "\n",
    "\n",
    "#Initialize the RNN\n",
    "from keras.models import Sequential\n",
    "from keras.layers import Dense\n",
    "from keras.layers import LSTM\n",
    "from keras.layers import Dropout\n",
    "\n",
    "\n",
    "from sklearn.svm import SVR\n",
    "import plotly.express as px\n",
    "import plotly.graph_objects as go\n",
    "from plotly.subplots import make_subplots\n",
    "import matplotlib.pyplot as plt\n",
    "\n",
    "from sklearn.metrics import mean_squared_error,r2_score"
   ]
  },
  {
   "cell_type": "code",
   "execution_count": 196,
   "id": "ef4f587d",
   "metadata": {},
   "outputs": [],
   "source": [
    " covid_data = pd.read_csv('covid_19_data.csv')"
   ]
  },
  {
   "cell_type": "code",
   "execution_count": 197,
   "id": "248e0d2a",
   "metadata": {},
   "outputs": [
    {
     "data": {
      "text/plain": [
       "(13850, 8)"
      ]
     },
     "execution_count": 197,
     "metadata": {},
     "output_type": "execute_result"
    }
   ],
   "source": [
    "covid_data.shape\n"
   ]
  },
  {
   "cell_type": "code",
   "execution_count": 198,
   "id": "476f9fd4",
   "metadata": {},
   "outputs": [
    {
     "data": {
      "text/plain": [
       "SNo                  int64\n",
       "ObservationDate     object\n",
       "Province/State      object\n",
       "Country/Region      object\n",
       "Last Update         object\n",
       "Confirmed          float64\n",
       "Deaths             float64\n",
       "Recovered          float64\n",
       "dtype: object"
      ]
     },
     "execution_count": 198,
     "metadata": {},
     "output_type": "execute_result"
    }
   ],
   "source": [
    "covid_data.dtypes\n"
   ]
  },
  {
   "cell_type": "code",
   "execution_count": 199,
   "id": "5168fc88",
   "metadata": {},
   "outputs": [
    {
     "data": {
      "text/plain": [
       "SNo                   0\n",
       "ObservationDate       0\n",
       "Province/State     6743\n",
       "Country/Region        0\n",
       "Last Update           0\n",
       "Confirmed             0\n",
       "Deaths                0\n",
       "Recovered             0\n",
       "dtype: int64"
      ]
     },
     "execution_count": 199,
     "metadata": {},
     "output_type": "execute_result"
    }
   ],
   "source": [
    "covid_data.isnull().sum()\n"
   ]
  },
  {
   "cell_type": "code",
   "execution_count": 200,
   "id": "c1a55d69",
   "metadata": {},
   "outputs": [
    {
     "data": {
      "text/html": [
       "<div>\n",
       "<style scoped>\n",
       "    .dataframe tbody tr th:only-of-type {\n",
       "        vertical-align: middle;\n",
       "    }\n",
       "\n",
       "    .dataframe tbody tr th {\n",
       "        vertical-align: top;\n",
       "    }\n",
       "\n",
       "    .dataframe thead th {\n",
       "        text-align: right;\n",
       "    }\n",
       "</style>\n",
       "<table border=\"1\" class=\"dataframe\">\n",
       "  <thead>\n",
       "    <tr style=\"text-align: right;\">\n",
       "      <th></th>\n",
       "      <th>SNo</th>\n",
       "      <th>ObservationDate</th>\n",
       "      <th>Province/State</th>\n",
       "      <th>Country/Region</th>\n",
       "      <th>Last Update</th>\n",
       "      <th>Confirmed</th>\n",
       "      <th>Deaths</th>\n",
       "      <th>Recovered</th>\n",
       "    </tr>\n",
       "  </thead>\n",
       "  <tbody>\n",
       "    <tr>\n",
       "      <th>0</th>\n",
       "      <td>1</td>\n",
       "      <td>01/22/2020</td>\n",
       "      <td>Anhui</td>\n",
       "      <td>Mainland China</td>\n",
       "      <td>1/22/2020 17:00</td>\n",
       "      <td>1.0</td>\n",
       "      <td>0.0</td>\n",
       "      <td>0.0</td>\n",
       "    </tr>\n",
       "    <tr>\n",
       "      <th>1</th>\n",
       "      <td>2</td>\n",
       "      <td>01/22/2020</td>\n",
       "      <td>Beijing</td>\n",
       "      <td>Mainland China</td>\n",
       "      <td>1/22/2020 17:00</td>\n",
       "      <td>14.0</td>\n",
       "      <td>0.0</td>\n",
       "      <td>0.0</td>\n",
       "    </tr>\n",
       "    <tr>\n",
       "      <th>2</th>\n",
       "      <td>3</td>\n",
       "      <td>01/22/2020</td>\n",
       "      <td>Chongqing</td>\n",
       "      <td>Mainland China</td>\n",
       "      <td>1/22/2020 17:00</td>\n",
       "      <td>6.0</td>\n",
       "      <td>0.0</td>\n",
       "      <td>0.0</td>\n",
       "    </tr>\n",
       "    <tr>\n",
       "      <th>3</th>\n",
       "      <td>4</td>\n",
       "      <td>01/22/2020</td>\n",
       "      <td>Fujian</td>\n",
       "      <td>Mainland China</td>\n",
       "      <td>1/22/2020 17:00</td>\n",
       "      <td>1.0</td>\n",
       "      <td>0.0</td>\n",
       "      <td>0.0</td>\n",
       "    </tr>\n",
       "    <tr>\n",
       "      <th>4</th>\n",
       "      <td>5</td>\n",
       "      <td>01/22/2020</td>\n",
       "      <td>Gansu</td>\n",
       "      <td>Mainland China</td>\n",
       "      <td>1/22/2020 17:00</td>\n",
       "      <td>0.0</td>\n",
       "      <td>0.0</td>\n",
       "      <td>0.0</td>\n",
       "    </tr>\n",
       "    <tr>\n",
       "      <th>5</th>\n",
       "      <td>6</td>\n",
       "      <td>01/22/2020</td>\n",
       "      <td>Guangdong</td>\n",
       "      <td>Mainland China</td>\n",
       "      <td>1/22/2020 17:00</td>\n",
       "      <td>26.0</td>\n",
       "      <td>0.0</td>\n",
       "      <td>0.0</td>\n",
       "    </tr>\n",
       "    <tr>\n",
       "      <th>6</th>\n",
       "      <td>7</td>\n",
       "      <td>01/22/2020</td>\n",
       "      <td>Guangxi</td>\n",
       "      <td>Mainland China</td>\n",
       "      <td>1/22/2020 17:00</td>\n",
       "      <td>2.0</td>\n",
       "      <td>0.0</td>\n",
       "      <td>0.0</td>\n",
       "    </tr>\n",
       "    <tr>\n",
       "      <th>7</th>\n",
       "      <td>8</td>\n",
       "      <td>01/22/2020</td>\n",
       "      <td>Guizhou</td>\n",
       "      <td>Mainland China</td>\n",
       "      <td>1/22/2020 17:00</td>\n",
       "      <td>1.0</td>\n",
       "      <td>0.0</td>\n",
       "      <td>0.0</td>\n",
       "    </tr>\n",
       "    <tr>\n",
       "      <th>8</th>\n",
       "      <td>9</td>\n",
       "      <td>01/22/2020</td>\n",
       "      <td>Hainan</td>\n",
       "      <td>Mainland China</td>\n",
       "      <td>1/22/2020 17:00</td>\n",
       "      <td>4.0</td>\n",
       "      <td>0.0</td>\n",
       "      <td>0.0</td>\n",
       "    </tr>\n",
       "    <tr>\n",
       "      <th>9</th>\n",
       "      <td>10</td>\n",
       "      <td>01/22/2020</td>\n",
       "      <td>Hebei</td>\n",
       "      <td>Mainland China</td>\n",
       "      <td>1/22/2020 17:00</td>\n",
       "      <td>1.0</td>\n",
       "      <td>0.0</td>\n",
       "      <td>0.0</td>\n",
       "    </tr>\n",
       "    <tr>\n",
       "      <th>10</th>\n",
       "      <td>11</td>\n",
       "      <td>01/22/2020</td>\n",
       "      <td>Heilongjiang</td>\n",
       "      <td>Mainland China</td>\n",
       "      <td>1/22/2020 17:00</td>\n",
       "      <td>0.0</td>\n",
       "      <td>0.0</td>\n",
       "      <td>0.0</td>\n",
       "    </tr>\n",
       "    <tr>\n",
       "      <th>11</th>\n",
       "      <td>12</td>\n",
       "      <td>01/22/2020</td>\n",
       "      <td>Henan</td>\n",
       "      <td>Mainland China</td>\n",
       "      <td>1/22/2020 17:00</td>\n",
       "      <td>5.0</td>\n",
       "      <td>0.0</td>\n",
       "      <td>0.0</td>\n",
       "    </tr>\n",
       "    <tr>\n",
       "      <th>12</th>\n",
       "      <td>13</td>\n",
       "      <td>01/22/2020</td>\n",
       "      <td>Hong Kong</td>\n",
       "      <td>Hong Kong</td>\n",
       "      <td>1/22/2020 17:00</td>\n",
       "      <td>0.0</td>\n",
       "      <td>0.0</td>\n",
       "      <td>0.0</td>\n",
       "    </tr>\n",
       "    <tr>\n",
       "      <th>13</th>\n",
       "      <td>14</td>\n",
       "      <td>01/22/2020</td>\n",
       "      <td>Hubei</td>\n",
       "      <td>Mainland China</td>\n",
       "      <td>1/22/2020 17:00</td>\n",
       "      <td>444.0</td>\n",
       "      <td>17.0</td>\n",
       "      <td>28.0</td>\n",
       "    </tr>\n",
       "    <tr>\n",
       "      <th>14</th>\n",
       "      <td>15</td>\n",
       "      <td>01/22/2020</td>\n",
       "      <td>Hunan</td>\n",
       "      <td>Mainland China</td>\n",
       "      <td>1/22/2020 17:00</td>\n",
       "      <td>4.0</td>\n",
       "      <td>0.0</td>\n",
       "      <td>0.0</td>\n",
       "    </tr>\n",
       "    <tr>\n",
       "      <th>15</th>\n",
       "      <td>16</td>\n",
       "      <td>01/22/2020</td>\n",
       "      <td>Inner Mongolia</td>\n",
       "      <td>Mainland China</td>\n",
       "      <td>1/22/2020 17:00</td>\n",
       "      <td>0.0</td>\n",
       "      <td>0.0</td>\n",
       "      <td>0.0</td>\n",
       "    </tr>\n",
       "    <tr>\n",
       "      <th>16</th>\n",
       "      <td>17</td>\n",
       "      <td>01/22/2020</td>\n",
       "      <td>Jiangsu</td>\n",
       "      <td>Mainland China</td>\n",
       "      <td>1/22/2020 17:00</td>\n",
       "      <td>1.0</td>\n",
       "      <td>0.0</td>\n",
       "      <td>0.0</td>\n",
       "    </tr>\n",
       "    <tr>\n",
       "      <th>17</th>\n",
       "      <td>18</td>\n",
       "      <td>01/22/2020</td>\n",
       "      <td>Jiangxi</td>\n",
       "      <td>Mainland China</td>\n",
       "      <td>1/22/2020 17:00</td>\n",
       "      <td>2.0</td>\n",
       "      <td>0.0</td>\n",
       "      <td>0.0</td>\n",
       "    </tr>\n",
       "    <tr>\n",
       "      <th>18</th>\n",
       "      <td>19</td>\n",
       "      <td>01/22/2020</td>\n",
       "      <td>Jilin</td>\n",
       "      <td>Mainland China</td>\n",
       "      <td>1/22/2020 17:00</td>\n",
       "      <td>0.0</td>\n",
       "      <td>0.0</td>\n",
       "      <td>0.0</td>\n",
       "    </tr>\n",
       "    <tr>\n",
       "      <th>19</th>\n",
       "      <td>20</td>\n",
       "      <td>01/22/2020</td>\n",
       "      <td>Liaoning</td>\n",
       "      <td>Mainland China</td>\n",
       "      <td>1/22/2020 17:00</td>\n",
       "      <td>2.0</td>\n",
       "      <td>0.0</td>\n",
       "      <td>0.0</td>\n",
       "    </tr>\n",
       "  </tbody>\n",
       "</table>\n",
       "</div>"
      ],
      "text/plain": [
       "    SNo ObservationDate  Province/State  Country/Region      Last Update  \\\n",
       "0     1      01/22/2020           Anhui  Mainland China  1/22/2020 17:00   \n",
       "1     2      01/22/2020         Beijing  Mainland China  1/22/2020 17:00   \n",
       "2     3      01/22/2020       Chongqing  Mainland China  1/22/2020 17:00   \n",
       "3     4      01/22/2020          Fujian  Mainland China  1/22/2020 17:00   \n",
       "4     5      01/22/2020           Gansu  Mainland China  1/22/2020 17:00   \n",
       "5     6      01/22/2020       Guangdong  Mainland China  1/22/2020 17:00   \n",
       "6     7      01/22/2020         Guangxi  Mainland China  1/22/2020 17:00   \n",
       "7     8      01/22/2020         Guizhou  Mainland China  1/22/2020 17:00   \n",
       "8     9      01/22/2020          Hainan  Mainland China  1/22/2020 17:00   \n",
       "9    10      01/22/2020           Hebei  Mainland China  1/22/2020 17:00   \n",
       "10   11      01/22/2020    Heilongjiang  Mainland China  1/22/2020 17:00   \n",
       "11   12      01/22/2020           Henan  Mainland China  1/22/2020 17:00   \n",
       "12   13      01/22/2020       Hong Kong       Hong Kong  1/22/2020 17:00   \n",
       "13   14      01/22/2020           Hubei  Mainland China  1/22/2020 17:00   \n",
       "14   15      01/22/2020           Hunan  Mainland China  1/22/2020 17:00   \n",
       "15   16      01/22/2020  Inner Mongolia  Mainland China  1/22/2020 17:00   \n",
       "16   17      01/22/2020         Jiangsu  Mainland China  1/22/2020 17:00   \n",
       "17   18      01/22/2020         Jiangxi  Mainland China  1/22/2020 17:00   \n",
       "18   19      01/22/2020           Jilin  Mainland China  1/22/2020 17:00   \n",
       "19   20      01/22/2020        Liaoning  Mainland China  1/22/2020 17:00   \n",
       "\n",
       "    Confirmed  Deaths  Recovered  \n",
       "0         1.0     0.0        0.0  \n",
       "1        14.0     0.0        0.0  \n",
       "2         6.0     0.0        0.0  \n",
       "3         1.0     0.0        0.0  \n",
       "4         0.0     0.0        0.0  \n",
       "5        26.0     0.0        0.0  \n",
       "6         2.0     0.0        0.0  \n",
       "7         1.0     0.0        0.0  \n",
       "8         4.0     0.0        0.0  \n",
       "9         1.0     0.0        0.0  \n",
       "10        0.0     0.0        0.0  \n",
       "11        5.0     0.0        0.0  \n",
       "12        0.0     0.0        0.0  \n",
       "13      444.0    17.0       28.0  \n",
       "14        4.0     0.0        0.0  \n",
       "15        0.0     0.0        0.0  \n",
       "16        1.0     0.0        0.0  \n",
       "17        2.0     0.0        0.0  \n",
       "18        0.0     0.0        0.0  \n",
       "19        2.0     0.0        0.0  "
      ]
     },
     "execution_count": 200,
     "metadata": {},
     "output_type": "execute_result"
    }
   ],
   "source": [
    "covid_data.head(20)\n"
   ]
  },
  {
   "cell_type": "code",
   "execution_count": 201,
   "id": "5d419879",
   "metadata": {},
   "outputs": [],
   "source": [
    "covid_data['ObservationDate'] = pd.to_datetime(covid_data['ObservationDate'])\n",
    "covid_data['Last Update'] = pd.to_datetime(covid_data['Last Update'])"
   ]
  },
  {
   "cell_type": "code",
   "execution_count": 202,
   "id": "16ebafbe",
   "metadata": {},
   "outputs": [
    {
     "data": {
      "image/png": "[encoded data removed]",
      "text/plain": [
       "<Figure size 1500x500 with 1 Axes>"
      ]
     },
     "metadata": {},
     "output_type": "display_data"
    }
   ],
   "source": [
    "months = ['Jan','Feb','March','April(Till first week)']\n",
    "countries_affected = []\n",
    "for x in range(1,5):\n",
    "    countries_affected.append(covid_data[covid_data['ObservationDate'].dt.month == x]['Country/Region'].nunique())\n",
    "plt.figure(figsize = (15,5))    \n",
    "plt.bar(months,countries_affected)    \n",
    "plt.xlabel('Months')\n",
    "plt.ylabel(\"Number of Countries\")\n",
    "plt.title('Number of Countries Getting Affected')\n",
    "plt.show()"
   ]
  },
  {
   "cell_type": "code",
   "execution_count": 203,
   "id": "5b483b6c",
   "metadata": {},
   "outputs": [],
   "source": [
    "first_month = covid_data[covid_data['ObservationDate'] == '01/31/2020'].groupby(['Country/Region'])['Confirmed'].sum().sort_values(ascending = False).head(10)\n",
    "second_month = covid_data[covid_data['ObservationDate'] == '02/29/2020'].groupby(['Country/Region'])['Confirmed'].sum().sort_values(ascending = False).head(10)\n",
    "third_month = covid_data[covid_data['ObservationDate'] == '03/31/2020'].groupby(['Country/Region'])['Confirmed'].sum().sort_values(ascending = False).head(10)\n",
    "fourth_month = covid_data[covid_data['ObservationDate'] == '04/07/2020'].groupby(['Country/Region'])['Confirmed'].sum().sort_values(ascending = False).head(10)"
   ]
  },
  {
   "cell_type": "code",
   "execution_count": 204,
   "id": "f1bfc193",
   "metadata": {},
   "outputs": [
    {
     "data": {
      "image/png": "[encoded data removed]",
      "text/plain": [
       "<Figure size 1500x800 with 4 Axes>"
      ]
     },
     "metadata": {},
     "output_type": "display_data"
    }
   ],
   "source": [
    "fig, ax = plt.subplots(nrows = 2, ncols = 2, figsize = (15,8))\n",
    "fig.tight_layout(pad=6.0)\n",
    "\n",
    "ax[0,0].bar(first_month.index.tolist(),first_month.tolist())\n",
    "ax[0,0].set_xticklabels(first_month.index.tolist(),rotation = 45, minor=False)\n",
    "ax[0,0].title.set_text('January')\n",
    "\n",
    "ax[0,1].bar(second_month.index.tolist(),second_month.tolist(), color = 'g')\n",
    "ax[0,1].set_xticklabels(second_month.index.tolist(),rotation = 45, minor=False)\n",
    "ax[0,1].title.set_text('February')\n",
    "\n",
    "ax[1,0].bar(third_month.index.tolist(),third_month.tolist(), color = 'c')\n",
    "ax[1,0].set_xticklabels(third_month.index.tolist(),rotation = 45, minor=False)\n",
    "ax[1,0].title.set_text('March')\n",
    "\n",
    "ax[1,1].bar(fourth_month.index.tolist(),fourth_month.tolist(), color = 'r')\n",
    "ax[1,1].set_xticklabels(fourth_month.index.tolist(),rotation = 45, minor=False)\n",
    "ax[1,1].title.set_text('April (Till first week)')\n",
    "\n",
    "plt.show()"
   ]
  },
  {
   "cell_type": "code",
   "execution_count": 205,
   "id": "d4190a7e",
   "metadata": {},
   "outputs": [],
   "source": [
    "third_month_total = covid_data[covid_data['ObservationDate'] == '03/31/2020'].groupby(['Country/Region'])['Confirmed'].sum().sort_values(ascending = False)\n",
    "fourth_month_total = covid_data[covid_data['ObservationDate'] == '04/07/2020'].groupby(['Country/Region'])['Confirmed'].sum().sort_values(ascending = False)"
   ]
  },
  {
   "cell_type": "code",
   "execution_count": 206,
   "id": "ae2531e9",
   "metadata": {},
   "outputs": [],
   "source": [
    "top_countries = fourth_month.index.tolist()\n",
    "increase_rate = {}\n",
    "for x in top_countries:\n",
    "        increase_rate.update({x:((fourth_month_total[x] - third_month_total[x] )/ third_month_total[x]) * 100})\n",
    "increase_rate = pd.DataFrame({'Countries':list(increase_rate.keys()), 'Increase Rate': list(increase_rate.values())})\n",
    "increase_rate = increase_rate.sort_values(by = 'Increase Rate',ascending = False).head(10)"
   ]
  },
  {
   "cell_type": "code",
   "execution_count": 207,
   "id": "dae8f7dd",
   "metadata": {},
   "outputs": [
    {
     "data": {
      "text/html": [
       "<div>\n",
       "<style scoped>\n",
       "    .dataframe tbody tr th:only-of-type {\n",
       "        vertical-align: middle;\n",
       "    }\n",
       "\n",
       "    .dataframe tbody tr th {\n",
       "        vertical-align: top;\n",
       "    }\n",
       "\n",
       "    .dataframe thead th {\n",
       "        text-align: right;\n",
       "    }\n",
       "</style>\n",
       "<table border=\"1\" class=\"dataframe\">\n",
       "  <thead>\n",
       "    <tr style=\"text-align: right;\">\n",
       "      <th></th>\n",
       "      <th>Countries</th>\n",
       "      <th>Increase Rate</th>\n",
       "    </tr>\n",
       "  </thead>\n",
       "  <tbody>\n",
       "    <tr>\n",
       "      <th>8</th>\n",
       "      <td>Turkey</td>\n",
       "      <td>152.080408</td>\n",
       "    </tr>\n",
       "    <tr>\n",
       "      <th>7</th>\n",
       "      <td>UK</td>\n",
       "      <td>119.571445</td>\n",
       "    </tr>\n",
       "    <tr>\n",
       "      <th>0</th>\n",
       "      <td>US</td>\n",
       "      <td>110.564271</td>\n",
       "    </tr>\n",
       "    <tr>\n",
       "      <th>3</th>\n",
       "      <td>France</td>\n",
       "      <td>108.349897</td>\n",
       "    </tr>\n",
       "    <tr>\n",
       "      <th>4</th>\n",
       "      <td>Germany</td>\n",
       "      <td>49.931762</td>\n",
       "    </tr>\n",
       "    <tr>\n",
       "      <th>1</th>\n",
       "      <td>Spain</td>\n",
       "      <td>47.974938</td>\n",
       "    </tr>\n",
       "    <tr>\n",
       "      <th>6</th>\n",
       "      <td>Iran</td>\n",
       "      <td>40.318350</td>\n",
       "    </tr>\n",
       "    <tr>\n",
       "      <th>9</th>\n",
       "      <td>Switzerland</td>\n",
       "      <td>34.013851</td>\n",
       "    </tr>\n",
       "    <tr>\n",
       "      <th>2</th>\n",
       "      <td>Italy</td>\n",
       "      <td>28.162810</td>\n",
       "    </tr>\n",
       "    <tr>\n",
       "      <th>5</th>\n",
       "      <td>Mainland China</td>\n",
       "      <td>0.263726</td>\n",
       "    </tr>\n",
       "  </tbody>\n",
       "</table>\n",
       "</div>"
      ],
      "text/plain": [
       "        Countries  Increase Rate\n",
       "8          Turkey     152.080408\n",
       "7              UK     119.571445\n",
       "0              US     110.564271\n",
       "3          France     108.349897\n",
       "4         Germany      49.931762\n",
       "1           Spain      47.974938\n",
       "6            Iran      40.318350\n",
       "9     Switzerland      34.013851\n",
       "2           Italy      28.162810\n",
       "5  Mainland China       0.263726"
      ]
     },
     "execution_count": 207,
     "metadata": {},
     "output_type": "execute_result"
    }
   ],
   "source": [
    "increase_rate\n"
   ]
  },
  {
   "cell_type": "code",
   "execution_count": 208,
   "id": "41fd437d",
   "metadata": {},
   "outputs": [
    {
     "data": {
      "image/png": "[encoded data removed]",
      "text/plain": [
       "<Figure size 1500x800 with 1 Axes>"
      ]
     },
     "metadata": {},
     "output_type": "display_data"
    }
   ],
   "source": [
    "plt.figure(figsize = (15,8))\n",
    "sns.barplot(x = 'Increase Rate', y = 'Countries', data = increase_rate)\n",
    "plt.show()"
   ]
  },
  {
   "cell_type": "code",
   "execution_count": 209,
   "id": "84ed0e7a",
   "metadata": {},
   "outputs": [],
   "source": [
    "countries_overall = covid_data['Country/Region'].tolist()\n",
    "increase_rate_overall = {}\n",
    "for x in countries_overall:\n",
    "    if (x not in third_month_total or x not in fourth_month_total):\n",
    "        continue;\n",
    "    else:\n",
    "        increase_rate_overall.update({x:((fourth_month_total[x] - third_month_total[x] )/ third_month_total[x]) * 100})\n",
    "increase_rate_overall = pd.DataFrame({'Countries':list(increase_rate_overall.keys()), 'Increase Rate': list(increase_rate_overall.values())})\n",
    "increase_rate_overall = increase_rate_overall.sort_values(by = 'Increase Rate',ascending = False).head(10)"
   ]
  },
  {
   "cell_type": "code",
   "execution_count": 210,
   "id": "078b1835",
   "metadata": {},
   "outputs": [
    {
     "data": {
      "text/html": [
       "<div>\n",
       "<style scoped>\n",
       "    .dataframe tbody tr th:only-of-type {\n",
       "        vertical-align: middle;\n",
       "    }\n",
       "\n",
       "    .dataframe tbody tr th {\n",
       "        vertical-align: top;\n",
       "    }\n",
       "\n",
       "    .dataframe thead th {\n",
       "        text-align: right;\n",
       "    }\n",
       "</style>\n",
       "<table border=\"1\" class=\"dataframe\">\n",
       "  <thead>\n",
       "    <tr style=\"text-align: right;\">\n",
       "      <th></th>\n",
       "      <th>Countries</th>\n",
       "      <th>Increase Rate</th>\n",
       "    </tr>\n",
       "  </thead>\n",
       "  <tbody>\n",
       "    <tr>\n",
       "      <th>157</th>\n",
       "      <td>Niger</td>\n",
       "      <td>929.629630</td>\n",
       "    </tr>\n",
       "    <tr>\n",
       "      <th>132</th>\n",
       "      <td>Saint Vincent and the Grenadines</td>\n",
       "      <td>700.000000</td>\n",
       "    </tr>\n",
       "    <tr>\n",
       "      <th>117</th>\n",
       "      <td>Guinea</td>\n",
       "      <td>554.545455</td>\n",
       "    </tr>\n",
       "    <tr>\n",
       "      <th>181</th>\n",
       "      <td>Sierra Leone</td>\n",
       "      <td>500.000000</td>\n",
       "    </tr>\n",
       "    <tr>\n",
       "      <th>55</th>\n",
       "      <td>Belarus</td>\n",
       "      <td>466.447368</td>\n",
       "    </tr>\n",
       "    <tr>\n",
       "      <th>140</th>\n",
       "      <td>Liberia</td>\n",
       "      <td>366.666667</td>\n",
       "    </tr>\n",
       "    <tr>\n",
       "      <th>178</th>\n",
       "      <td>MS Zaandam</td>\n",
       "      <td>350.000000</td>\n",
       "    </tr>\n",
       "    <tr>\n",
       "      <th>173</th>\n",
       "      <td>Guinea-Bissau</td>\n",
       "      <td>312.500000</td>\n",
       "    </tr>\n",
       "    <tr>\n",
       "      <th>25</th>\n",
       "      <td>India</td>\n",
       "      <td>280.171797</td>\n",
       "    </tr>\n",
       "    <tr>\n",
       "      <th>24</th>\n",
       "      <td>United Arab Emirates</td>\n",
       "      <td>255.271084</td>\n",
       "    </tr>\n",
       "  </tbody>\n",
       "</table>\n",
       "</div>"
      ],
      "text/plain": [
       "                            Countries  Increase Rate\n",
       "157                             Niger     929.629630\n",
       "132  Saint Vincent and the Grenadines     700.000000\n",
       "117                            Guinea     554.545455\n",
       "181                      Sierra Leone     500.000000\n",
       "55                            Belarus     466.447368\n",
       "140                           Liberia     366.666667\n",
       "178                        MS Zaandam     350.000000\n",
       "173                     Guinea-Bissau     312.500000\n",
       "25                              India     280.171797\n",
       "24               United Arab Emirates     255.271084"
      ]
     },
     "execution_count": 210,
     "metadata": {},
     "output_type": "execute_result"
    }
   ],
   "source": [
    "increase_rate_overall\n"
   ]
  },
  {
   "cell_type": "code",
   "execution_count": 211,
   "id": "1e61d3d5",
   "metadata": {},
   "outputs": [
    {
     "data": {
      "image/png": "[encoded data removed]",
      "text/plain": [
       "<Figure size 1500x800 with 1 Axes>"
      ]
     },
     "metadata": {},
     "output_type": "display_data"
    }
   ],
   "source": [
    "plt.figure(figsize = (15,8))\n",
    "sns.barplot(x = 'Increase Rate', y = 'Countries', data = increase_rate_overall)\n",
    "plt.title('Top 10 Countries with the highest rate of increase in cases (Overall)')\n",
    "plt.show()"
   ]
  },
  {
   "cell_type": "code",
   "execution_count": 212,
   "id": "40806e42",
   "metadata": {},
   "outputs": [],
   "source": [
    "april = covid_data[covid_data['ObservationDate'] == '04/07/2020']\n",
    "us_cities_april = april[april['Country/Region'] == 'US'][['Province/State','Confirmed']].sort_values(by = 'Confirmed', ascending = False).head(10)"
   ]
  },
  {
   "cell_type": "code",
   "execution_count": 213,
   "id": "eccf4b39",
   "metadata": {},
   "outputs": [
    {
     "data": {
      "image/png": "[encoded data removed]",
      "text/plain": [
       "<Figure size 1500x800 with 1 Axes>"
      ]
     },
     "metadata": {},
     "output_type": "display_data"
    }
   ],
   "source": [
    "plt.figure(figsize = (15,8))\n",
    "sns.barplot(x = 'Confirmed', y = 'Province/State', data = us_cities_april, color = 'cyan')\n",
    "plt.title('Most Affected States in US')\n",
    "plt.show()"
   ]
  },
  {
   "cell_type": "code",
   "execution_count": 214,
   "id": "c166662e",
   "metadata": {},
   "outputs": [],
   "source": [
    "us_dataset = covid_data[covid_data['Country/Region'] == 'US']\n",
    "#Dropping these four days as cases were taken for Counties as opposed to the other days where cases were taken for States\n",
    "us_dataset = us_dataset[(us_dataset['ObservationDate'] != '2020-03-06') & (us_dataset['ObservationDate'] != '2020-03-07') & (us_dataset['ObservationDate'] != '2020-03-08') & (us_dataset['ObservationDate'] != '2020-03-09')]"
   ]
  },
  {
   "cell_type": "code",
   "execution_count": 215,
   "id": "677e917d",
   "metadata": {},
   "outputs": [],
   "source": [
    "number_of_cities = us_dataset.groupby(['ObservationDate']).size()\n"
   ]
  },
  {
   "cell_type": "code",
   "execution_count": 216,
   "id": "12fb2596",
   "metadata": {},
   "outputs": [
    {
     "data": {
      "image/png": "[encoded data removed]",
      "text/plain": [
       "<Figure size 1500x800 with 1 Axes>"
      ]
     },
     "metadata": {},
     "output_type": "display_data"
    }
   ],
   "source": [
    "plt.figure(figsize = (15,8))\n",
    "plt.plot(number_of_cities, color = 'c', marker = 'o')\n",
    "plt.title('Day wise number of cities getting affected (In US)')\n",
    "plt.xlabel('Days')\n",
    "plt.ylabel('Number of Cities')\n",
    "plt.show()"
   ]
  },
  {
   "cell_type": "code",
   "execution_count": 217,
   "id": "4db2f47a",
   "metadata": {},
   "outputs": [],
   "source": [
    "fourth_month_recovery = covid_data[covid_data['ObservationDate'] == '04/07/2020'].groupby(['Country/Region'])['Recovered'].sum().sort_values(ascending = False)"
   ]
  },
  {
   "cell_type": "code",
   "execution_count": 218,
   "id": "e495faab",
   "metadata": {},
   "outputs": [],
   "source": [
    "for x in fourth_month_recovery.index.tolist():\n",
    "    ratio = (fourth_month_recovery[x]/fourth_month_total[x]) * 100\n",
    "    fourth_month_recovery[x] = ratio   \n",
    "fourth_month_recovery = fourth_month_recovery.sort_values(ascending = False).head(10) "
   ]
  },
  {
   "cell_type": "code",
   "execution_count": 219,
   "id": "7271896d",
   "metadata": {},
   "outputs": [
    {
     "data": {
      "image/png": "[encoded data removed]",
      "text/plain": [
       "<Figure size 1000x500 with 1 Axes>"
      ]
     },
     "metadata": {},
     "output_type": "display_data"
    }
   ],
   "source": [
    "plt.figure(figsize = (10,5))\n",
    "plt.xticks(rotation = 45)\n",
    "plt.xlabel('Countries')\n",
    "plt.ylabel('Percentage of People recovered')\n",
    "plt.title('Top Ten Countries with Highest Recovery rate')\n",
    "plt.bar(fourth_month_recovery.index.tolist(), fourth_month_recovery.tolist(),color = 'b',)\n",
    "plt.show()"
   ]
  },
  {
   "cell_type": "code",
   "execution_count": 220,
   "id": "4da0dc1a",
   "metadata": {},
   "outputs": [],
   "source": [
    "fourth_month_deaths = covid_data[covid_data['ObservationDate'] == '04/07/2020'].groupby(['Country/Region'])['Deaths'].sum().sort_values(ascending = False)"
   ]
  },
  {
   "cell_type": "code",
   "execution_count": 221,
   "id": "79873ea6",
   "metadata": {},
   "outputs": [],
   "source": [
    "for x in fourth_month_deaths.index.tolist():\n",
    "    ratio = (fourth_month_deaths[x]/fourth_month_total[x]) * 100\n",
    "    fourth_month_deaths[x] = ratio   "
   ]
  },
  {
   "cell_type": "code",
   "execution_count": 222,
   "id": "e3b54830",
   "metadata": {},
   "outputs": [],
   "source": [
    "fourth_month_deaths = fourth_month_deaths.sort_values(ascending= False).head(10)"
   ]
  },
  {
   "cell_type": "code",
   "execution_count": 223,
   "id": "a7b9ca7b",
   "metadata": {},
   "outputs": [
    {
     "data": {
      "image/png": "[encoded data removed]",
      "text/plain": [
       "<Figure size 1000x500 with 1 Axes>"
      ]
     },
     "metadata": {},
     "output_type": "display_data"
    }
   ],
   "source": [
    "plt.figure(figsize = (10,5))\n",
    "plt.xticks(rotation = 45)\n",
    "plt.xlabel('Countries')\n",
    "plt.ylabel('Percentage of Deaths')\n",
    "plt.title('Top Ten Countries with Highest Death rate')\n",
    "plt.bar(fourth_month_deaths.index.tolist(), fourth_month_deaths.tolist(),color = 'r',)\n",
    "plt.show()\n"
   ]
  },
  {
   "cell_type": "code",
   "execution_count": 224,
   "id": "8fc88e54",
   "metadata": {},
   "outputs": [],
   "source": [
    "ind_confirmed = covid_data[covid_data['Country/Region'] == 'India'].groupby(['ObservationDate'])['Confirmed'].sum().tolist()\n",
    "ind_recovered = covid_data[covid_data['Country/Region'] == 'India'].groupby(['ObservationDate'])['Recovered'].sum().tolist()\n",
    "ind_deaths = covid_data[covid_data['Country/Region'] == 'India'].groupby(['ObservationDate'])['Deaths'].sum().tolist()\n"
   ]
  },
  {
   "cell_type": "code",
   "execution_count": 225,
   "id": "ce0106d0",
   "metadata": {},
   "outputs": [
    {
     "data": {
      "image/png": "[encoded data removed]",
      "text/plain": [
       "<Figure size 1500x800 with 1 Axes>"
      ]
     },
     "metadata": {},
     "output_type": "display_data"
    }
   ],
   "source": [
    "plt.figure(figsize = (15,8))\n",
    "plt.plot(ind_confirmed, color = 'c', marker = 'o', label = 'Number of Cases')\n",
    "plt.plot(ind_recovered, color = 'g', marker = 'o', label = 'Recovered')\n",
    "plt.plot(ind_deaths, color = 'r', marker = 'o', label = 'Deaths')\n",
    "plt.title('Number of Covid-19 Cases in India')\n",
    "plt.xlabel('Days')\n",
    "plt.ylabel('Number of People')\n",
    "plt.legend()\n",
    "plt.show()\n"
   ]
  },
  {
   "cell_type": "code",
   "execution_count": 226,
   "id": "b89616b0",
   "metadata": {},
   "outputs": [],
   "source": [
    "dataset_rnn = covid_data.groupby(['ObservationDate']).agg({'Confirmed':'sum','Recovered':'sum','Deaths':'sum'})\n"
   ]
  },
  {
   "cell_type": "code",
   "execution_count": 227,
   "id": "b6a1a95e",
   "metadata": {},
   "outputs": [
    {
     "data": {
      "text/html": [
       "<div>\n",
       "<style scoped>\n",
       "    .dataframe tbody tr th:only-of-type {\n",
       "        vertical-align: middle;\n",
       "    }\n",
       "\n",
       "    .dataframe tbody tr th {\n",
       "        vertical-align: top;\n",
       "    }\n",
       "\n",
       "    .dataframe thead th {\n",
       "        text-align: right;\n",
       "    }\n",
       "</style>\n",
       "<table border=\"1\" class=\"dataframe\">\n",
       "  <thead>\n",
       "    <tr style=\"text-align: right;\">\n",
       "      <th></th>\n",
       "      <th>Confirmed</th>\n",
       "      <th>Recovered</th>\n",
       "      <th>Deaths</th>\n",
       "    </tr>\n",
       "    <tr>\n",
       "      <th>ObservationDate</th>\n",
       "      <th></th>\n",
       "      <th></th>\n",
       "      <th></th>\n",
       "    </tr>\n",
       "  </thead>\n",
       "  <tbody>\n",
       "    <tr>\n",
       "      <th>2020-01-22</th>\n",
       "      <td>555.0</td>\n",
       "      <td>28.0</td>\n",
       "      <td>17.0</td>\n",
       "    </tr>\n",
       "    <tr>\n",
       "      <th>2020-01-23</th>\n",
       "      <td>653.0</td>\n",
       "      <td>30.0</td>\n",
       "      <td>18.0</td>\n",
       "    </tr>\n",
       "    <tr>\n",
       "      <th>2020-01-24</th>\n",
       "      <td>941.0</td>\n",
       "      <td>36.0</td>\n",
       "      <td>26.0</td>\n",
       "    </tr>\n",
       "    <tr>\n",
       "      <th>2020-01-25</th>\n",
       "      <td>1438.0</td>\n",
       "      <td>39.0</td>\n",
       "      <td>42.0</td>\n",
       "    </tr>\n",
       "    <tr>\n",
       "      <th>2020-01-26</th>\n",
       "      <td>2118.0</td>\n",
       "      <td>52.0</td>\n",
       "      <td>56.0</td>\n",
       "    </tr>\n",
       "    <tr>\n",
       "      <th>2020-01-27</th>\n",
       "      <td>2927.0</td>\n",
       "      <td>61.0</td>\n",
       "      <td>82.0</td>\n",
       "    </tr>\n",
       "    <tr>\n",
       "      <th>2020-01-28</th>\n",
       "      <td>5578.0</td>\n",
       "      <td>107.0</td>\n",
       "      <td>131.0</td>\n",
       "    </tr>\n",
       "    <tr>\n",
       "      <th>2020-01-29</th>\n",
       "      <td>6165.0</td>\n",
       "      <td>126.0</td>\n",
       "      <td>133.0</td>\n",
       "    </tr>\n",
       "    <tr>\n",
       "      <th>2020-01-30</th>\n",
       "      <td>8235.0</td>\n",
       "      <td>143.0</td>\n",
       "      <td>171.0</td>\n",
       "    </tr>\n",
       "    <tr>\n",
       "      <th>2020-01-31</th>\n",
       "      <td>9925.0</td>\n",
       "      <td>222.0</td>\n",
       "      <td>213.0</td>\n",
       "    </tr>\n",
       "    <tr>\n",
       "      <th>2020-02-01</th>\n",
       "      <td>12038.0</td>\n",
       "      <td>284.0</td>\n",
       "      <td>259.0</td>\n",
       "    </tr>\n",
       "    <tr>\n",
       "      <th>2020-02-02</th>\n",
       "      <td>16787.0</td>\n",
       "      <td>472.0</td>\n",
       "      <td>362.0</td>\n",
       "    </tr>\n",
       "    <tr>\n",
       "      <th>2020-02-03</th>\n",
       "      <td>19881.0</td>\n",
       "      <td>623.0</td>\n",
       "      <td>426.0</td>\n",
       "    </tr>\n",
       "    <tr>\n",
       "      <th>2020-02-04</th>\n",
       "      <td>23892.0</td>\n",
       "      <td>852.0</td>\n",
       "      <td>492.0</td>\n",
       "    </tr>\n",
       "    <tr>\n",
       "      <th>2020-02-05</th>\n",
       "      <td>27636.0</td>\n",
       "      <td>1124.0</td>\n",
       "      <td>564.0</td>\n",
       "    </tr>\n",
       "    <tr>\n",
       "      <th>2020-02-06</th>\n",
       "      <td>30818.0</td>\n",
       "      <td>1487.0</td>\n",
       "      <td>634.0</td>\n",
       "    </tr>\n",
       "    <tr>\n",
       "      <th>2020-02-07</th>\n",
       "      <td>34392.0</td>\n",
       "      <td>2011.0</td>\n",
       "      <td>719.0</td>\n",
       "    </tr>\n",
       "    <tr>\n",
       "      <th>2020-02-08</th>\n",
       "      <td>37121.0</td>\n",
       "      <td>2616.0</td>\n",
       "      <td>806.0</td>\n",
       "    </tr>\n",
       "    <tr>\n",
       "      <th>2020-02-09</th>\n",
       "      <td>40151.0</td>\n",
       "      <td>3244.0</td>\n",
       "      <td>906.0</td>\n",
       "    </tr>\n",
       "    <tr>\n",
       "      <th>2020-02-10</th>\n",
       "      <td>42763.0</td>\n",
       "      <td>3946.0</td>\n",
       "      <td>1013.0</td>\n",
       "    </tr>\n",
       "    <tr>\n",
       "      <th>2020-02-11</th>\n",
       "      <td>44803.0</td>\n",
       "      <td>4683.0</td>\n",
       "      <td>1113.0</td>\n",
       "    </tr>\n",
       "    <tr>\n",
       "      <th>2020-02-12</th>\n",
       "      <td>45222.0</td>\n",
       "      <td>5150.0</td>\n",
       "      <td>1118.0</td>\n",
       "    </tr>\n",
       "    <tr>\n",
       "      <th>2020-02-13</th>\n",
       "      <td>60370.0</td>\n",
       "      <td>6295.0</td>\n",
       "      <td>1371.0</td>\n",
       "    </tr>\n",
       "    <tr>\n",
       "      <th>2020-02-14</th>\n",
       "      <td>66887.0</td>\n",
       "      <td>8058.0</td>\n",
       "      <td>1523.0</td>\n",
       "    </tr>\n",
       "    <tr>\n",
       "      <th>2020-02-15</th>\n",
       "      <td>69032.0</td>\n",
       "      <td>9395.0</td>\n",
       "      <td>1666.0</td>\n",
       "    </tr>\n",
       "    <tr>\n",
       "      <th>2020-02-16</th>\n",
       "      <td>71226.0</td>\n",
       "      <td>10865.0</td>\n",
       "      <td>1770.0</td>\n",
       "    </tr>\n",
       "    <tr>\n",
       "      <th>2020-02-17</th>\n",
       "      <td>73260.0</td>\n",
       "      <td>12583.0</td>\n",
       "      <td>1868.0</td>\n",
       "    </tr>\n",
       "    <tr>\n",
       "      <th>2020-02-18</th>\n",
       "      <td>75138.0</td>\n",
       "      <td>14352.0</td>\n",
       "      <td>2007.0</td>\n",
       "    </tr>\n",
       "    <tr>\n",
       "      <th>2020-02-19</th>\n",
       "      <td>75641.0</td>\n",
       "      <td>16121.0</td>\n",
       "      <td>2122.0</td>\n",
       "    </tr>\n",
       "    <tr>\n",
       "      <th>2020-02-20</th>\n",
       "      <td>76199.0</td>\n",
       "      <td>18177.0</td>\n",
       "      <td>2247.0</td>\n",
       "    </tr>\n",
       "    <tr>\n",
       "      <th>2020-02-21</th>\n",
       "      <td>76843.0</td>\n",
       "      <td>18890.0</td>\n",
       "      <td>2251.0</td>\n",
       "    </tr>\n",
       "    <tr>\n",
       "      <th>2020-02-22</th>\n",
       "      <td>78599.0</td>\n",
       "      <td>22886.0</td>\n",
       "      <td>2458.0</td>\n",
       "    </tr>\n",
       "    <tr>\n",
       "      <th>2020-02-23</th>\n",
       "      <td>78985.0</td>\n",
       "      <td>23394.0</td>\n",
       "      <td>2469.0</td>\n",
       "    </tr>\n",
       "    <tr>\n",
       "      <th>2020-02-24</th>\n",
       "      <td>79570.0</td>\n",
       "      <td>25227.0</td>\n",
       "      <td>2629.0</td>\n",
       "    </tr>\n",
       "    <tr>\n",
       "      <th>2020-02-25</th>\n",
       "      <td>80415.0</td>\n",
       "      <td>27905.0</td>\n",
       "      <td>2708.0</td>\n",
       "    </tr>\n",
       "    <tr>\n",
       "      <th>2020-02-26</th>\n",
       "      <td>81397.0</td>\n",
       "      <td>30384.0</td>\n",
       "      <td>2770.0</td>\n",
       "    </tr>\n",
       "    <tr>\n",
       "      <th>2020-02-27</th>\n",
       "      <td>82756.0</td>\n",
       "      <td>33277.0</td>\n",
       "      <td>2814.0</td>\n",
       "    </tr>\n",
       "    <tr>\n",
       "      <th>2020-02-28</th>\n",
       "      <td>84124.0</td>\n",
       "      <td>36711.0</td>\n",
       "      <td>2872.0</td>\n",
       "    </tr>\n",
       "    <tr>\n",
       "      <th>2020-02-29</th>\n",
       "      <td>86013.0</td>\n",
       "      <td>39782.0</td>\n",
       "      <td>2941.0</td>\n",
       "    </tr>\n",
       "    <tr>\n",
       "      <th>2020-03-01</th>\n",
       "      <td>88371.0</td>\n",
       "      <td>42716.0</td>\n",
       "      <td>2996.0</td>\n",
       "    </tr>\n",
       "    <tr>\n",
       "      <th>2020-03-02</th>\n",
       "      <td>90309.0</td>\n",
       "      <td>45602.0</td>\n",
       "      <td>3085.0</td>\n",
       "    </tr>\n",
       "    <tr>\n",
       "      <th>2020-03-03</th>\n",
       "      <td>92844.0</td>\n",
       "      <td>48229.0</td>\n",
       "      <td>3160.0</td>\n",
       "    </tr>\n",
       "    <tr>\n",
       "      <th>2020-03-04</th>\n",
       "      <td>95124.0</td>\n",
       "      <td>51171.0</td>\n",
       "      <td>3254.0</td>\n",
       "    </tr>\n",
       "    <tr>\n",
       "      <th>2020-03-05</th>\n",
       "      <td>97886.0</td>\n",
       "      <td>53797.0</td>\n",
       "      <td>3348.0</td>\n",
       "    </tr>\n",
       "    <tr>\n",
       "      <th>2020-03-06</th>\n",
       "      <td>101800.0</td>\n",
       "      <td>55866.0</td>\n",
       "      <td>3460.0</td>\n",
       "    </tr>\n",
       "    <tr>\n",
       "      <th>2020-03-07</th>\n",
       "      <td>105836.0</td>\n",
       "      <td>58359.0</td>\n",
       "      <td>3558.0</td>\n",
       "    </tr>\n",
       "    <tr>\n",
       "      <th>2020-03-08</th>\n",
       "      <td>109835.0</td>\n",
       "      <td>60695.0</td>\n",
       "      <td>3803.0</td>\n",
       "    </tr>\n",
       "    <tr>\n",
       "      <th>2020-03-09</th>\n",
       "      <td>113582.0</td>\n",
       "      <td>62512.0</td>\n",
       "      <td>3996.0</td>\n",
       "    </tr>\n",
       "    <tr>\n",
       "      <th>2020-03-10</th>\n",
       "      <td>118582.0</td>\n",
       "      <td>64404.0</td>\n",
       "      <td>4262.0</td>\n",
       "    </tr>\n",
       "    <tr>\n",
       "      <th>2020-03-11</th>\n",
       "      <td>125865.0</td>\n",
       "      <td>67003.0</td>\n",
       "      <td>4615.0</td>\n",
       "    </tr>\n",
       "    <tr>\n",
       "      <th>2020-03-12</th>\n",
       "      <td>128343.0</td>\n",
       "      <td>68324.0</td>\n",
       "      <td>4720.0</td>\n",
       "    </tr>\n",
       "    <tr>\n",
       "      <th>2020-03-13</th>\n",
       "      <td>145193.0</td>\n",
       "      <td>70251.0</td>\n",
       "      <td>5404.0</td>\n",
       "    </tr>\n",
       "    <tr>\n",
       "      <th>2020-03-14</th>\n",
       "      <td>156099.0</td>\n",
       "      <td>72624.0</td>\n",
       "      <td>5819.0</td>\n",
       "    </tr>\n",
       "    <tr>\n",
       "      <th>2020-03-15</th>\n",
       "      <td>167447.0</td>\n",
       "      <td>76034.0</td>\n",
       "      <td>6440.0</td>\n",
       "    </tr>\n",
       "    <tr>\n",
       "      <th>2020-03-16</th>\n",
       "      <td>181546.0</td>\n",
       "      <td>78088.0</td>\n",
       "      <td>7126.0</td>\n",
       "    </tr>\n",
       "    <tr>\n",
       "      <th>2020-03-17</th>\n",
       "      <td>197168.0</td>\n",
       "      <td>80840.0</td>\n",
       "      <td>7905.0</td>\n",
       "    </tr>\n",
       "    <tr>\n",
       "      <th>2020-03-18</th>\n",
       "      <td>214915.0</td>\n",
       "      <td>83313.0</td>\n",
       "      <td>8733.0</td>\n",
       "    </tr>\n",
       "    <tr>\n",
       "      <th>2020-03-19</th>\n",
       "      <td>242713.0</td>\n",
       "      <td>84962.0</td>\n",
       "      <td>9867.0</td>\n",
       "    </tr>\n",
       "    <tr>\n",
       "      <th>2020-03-20</th>\n",
       "      <td>272167.0</td>\n",
       "      <td>87403.0</td>\n",
       "      <td>11299.0</td>\n",
       "    </tr>\n",
       "    <tr>\n",
       "      <th>2020-03-21</th>\n",
       "      <td>304549.0</td>\n",
       "      <td>91676.0</td>\n",
       "      <td>12973.0</td>\n",
       "    </tr>\n",
       "    <tr>\n",
       "      <th>2020-03-22</th>\n",
       "      <td>337122.0</td>\n",
       "      <td>97243.0</td>\n",
       "      <td>14623.0</td>\n",
       "    </tr>\n",
       "    <tr>\n",
       "      <th>2020-03-23</th>\n",
       "      <td>378287.0</td>\n",
       "      <td>100958.0</td>\n",
       "      <td>16497.0</td>\n",
       "    </tr>\n",
       "    <tr>\n",
       "      <th>2020-03-24</th>\n",
       "      <td>417966.0</td>\n",
       "      <td>107705.0</td>\n",
       "      <td>18615.0</td>\n",
       "    </tr>\n",
       "    <tr>\n",
       "      <th>2020-03-25</th>\n",
       "      <td>467594.0</td>\n",
       "      <td>113770.0</td>\n",
       "      <td>21181.0</td>\n",
       "    </tr>\n",
       "    <tr>\n",
       "      <th>2020-03-26</th>\n",
       "      <td>529591.0</td>\n",
       "      <td>122150.0</td>\n",
       "      <td>23970.0</td>\n",
       "    </tr>\n",
       "    <tr>\n",
       "      <th>2020-03-27</th>\n",
       "      <td>593291.0</td>\n",
       "      <td>130915.0</td>\n",
       "      <td>27198.0</td>\n",
       "    </tr>\n",
       "    <tr>\n",
       "      <th>2020-03-28</th>\n",
       "      <td>660693.0</td>\n",
       "      <td>139415.0</td>\n",
       "      <td>30652.0</td>\n",
       "    </tr>\n",
       "    <tr>\n",
       "      <th>2020-03-29</th>\n",
       "      <td>720140.0</td>\n",
       "      <td>149082.0</td>\n",
       "      <td>33925.0</td>\n",
       "    </tr>\n",
       "    <tr>\n",
       "      <th>2020-03-30</th>\n",
       "      <td>782389.0</td>\n",
       "      <td>164566.0</td>\n",
       "      <td>37582.0</td>\n",
       "    </tr>\n",
       "    <tr>\n",
       "      <th>2020-03-31</th>\n",
       "      <td>857487.0</td>\n",
       "      <td>178034.0</td>\n",
       "      <td>42107.0</td>\n",
       "    </tr>\n",
       "    <tr>\n",
       "      <th>2020-04-01</th>\n",
       "      <td>932605.0</td>\n",
       "      <td>193177.0</td>\n",
       "      <td>46809.0</td>\n",
       "    </tr>\n",
       "    <tr>\n",
       "      <th>2020-04-02</th>\n",
       "      <td>1013303.0</td>\n",
       "      <td>210263.0</td>\n",
       "      <td>52983.0</td>\n",
       "    </tr>\n",
       "    <tr>\n",
       "      <th>2020-04-03</th>\n",
       "      <td>1095917.0</td>\n",
       "      <td>225796.0</td>\n",
       "      <td>58787.0</td>\n",
       "    </tr>\n",
       "    <tr>\n",
       "      <th>2020-04-04</th>\n",
       "      <td>1197408.0</td>\n",
       "      <td>246152.0</td>\n",
       "      <td>64606.0</td>\n",
       "    </tr>\n",
       "    <tr>\n",
       "      <th>2020-04-05</th>\n",
       "      <td>1272115.0</td>\n",
       "      <td>260012.0</td>\n",
       "      <td>69374.0</td>\n",
       "    </tr>\n",
       "    <tr>\n",
       "      <th>2020-04-06</th>\n",
       "      <td>1345101.0</td>\n",
       "      <td>276515.0</td>\n",
       "      <td>74565.0</td>\n",
       "    </tr>\n",
       "    <tr>\n",
       "      <th>2020-04-07</th>\n",
       "      <td>1426096.0</td>\n",
       "      <td>300054.0</td>\n",
       "      <td>81865.0</td>\n",
       "    </tr>\n",
       "    <tr>\n",
       "      <th>2020-04-08</th>\n",
       "      <td>1511104.0</td>\n",
       "      <td>328661.0</td>\n",
       "      <td>88338.0</td>\n",
       "    </tr>\n",
       "    <tr>\n",
       "      <th>2020-04-09</th>\n",
       "      <td>1595350.0</td>\n",
       "      <td>353975.0</td>\n",
       "      <td>95455.0</td>\n",
       "    </tr>\n",
       "    <tr>\n",
       "      <th>2020-04-10</th>\n",
       "      <td>1691719.0</td>\n",
       "      <td>376096.0</td>\n",
       "      <td>102525.0</td>\n",
       "    </tr>\n",
       "  </tbody>\n",
       "</table>\n",
       "</div>"
      ],
      "text/plain": [
       "                 Confirmed  Recovered    Deaths\n",
       "ObservationDate                                \n",
       "2020-01-22           555.0       28.0      17.0\n",
       "2020-01-23           653.0       30.0      18.0\n",
       "2020-01-24           941.0       36.0      26.0\n",
       "2020-01-25          1438.0       39.0      42.0\n",
       "2020-01-26          2118.0       52.0      56.0\n",
       "2020-01-27          2927.0       61.0      82.0\n",
       "2020-01-28          5578.0      107.0     131.0\n",
       "2020-01-29          6165.0      126.0     133.0\n",
       "2020-01-30          8235.0      143.0     171.0\n",
       "2020-01-31          9925.0      222.0     213.0\n",
       "2020-02-01         12038.0      284.0     259.0\n",
       "2020-02-02         16787.0      472.0     362.0\n",
       "2020-02-03         19881.0      623.0     426.0\n",
       "2020-02-04         23892.0      852.0     492.0\n",
       "2020-02-05         27636.0     1124.0     564.0\n",
       "2020-02-06         30818.0     1487.0     634.0\n",
       "2020-02-07         34392.0     2011.0     719.0\n",
       "2020-02-08         37121.0     2616.0     806.0\n",
       "2020-02-09         40151.0     3244.0     906.0\n",
       "2020-02-10         42763.0     3946.0    1013.0\n",
       "2020-02-11         44803.0     4683.0    1113.0\n",
       "2020-02-12         45222.0     5150.0    1118.0\n",
       "2020-02-13         60370.0     6295.0    1371.0\n",
       "2020-02-14         66887.0     8058.0    1523.0\n",
       "2020-02-15         69032.0     9395.0    1666.0\n",
       "2020-02-16         71226.0    10865.0    1770.0\n",
       "2020-02-17         73260.0    12583.0    1868.0\n",
       "2020-02-18         75138.0    14352.0    2007.0\n",
       "2020-02-19         75641.0    16121.0    2122.0\n",
       "2020-02-20         76199.0    18177.0    2247.0\n",
       "2020-02-21         76843.0    18890.0    2251.0\n",
       "2020-02-22         78599.0    22886.0    2458.0\n",
       "2020-02-23         78985.0    23394.0    2469.0\n",
       "2020-02-24         79570.0    25227.0    2629.0\n",
       "2020-02-25         80415.0    27905.0    2708.0\n",
       "2020-02-26         81397.0    30384.0    2770.0\n",
       "2020-02-27         82756.0    33277.0    2814.0\n",
       "2020-02-28         84124.0    36711.0    2872.0\n",
       "2020-02-29         86013.0    39782.0    2941.0\n",
       "2020-03-01         88371.0    42716.0    2996.0\n",
       "2020-03-02         90309.0    45602.0    3085.0\n",
       "2020-03-03         92844.0    48229.0    3160.0\n",
       "2020-03-04         95124.0    51171.0    3254.0\n",
       "2020-03-05         97886.0    53797.0    3348.0\n",
       "2020-03-06        101800.0    55866.0    3460.0\n",
       "2020-03-07        105836.0    58359.0    3558.0\n",
       "2020-03-08        109835.0    60695.0    3803.0\n",
       "2020-03-09        113582.0    62512.0    3996.0\n",
       "2020-03-10        118582.0    64404.0    4262.0\n",
       "2020-03-11        125865.0    67003.0    4615.0\n",
       "2020-03-12        128343.0    68324.0    4720.0\n",
       "2020-03-13        145193.0    70251.0    5404.0\n",
       "2020-03-14        156099.0    72624.0    5819.0\n",
       "2020-03-15        167447.0    76034.0    6440.0\n",
       "2020-03-16        181546.0    78088.0    7126.0\n",
       "2020-03-17        197168.0    80840.0    7905.0\n",
       "2020-03-18        214915.0    83313.0    8733.0\n",
       "2020-03-19        242713.0    84962.0    9867.0\n",
       "2020-03-20        272167.0    87403.0   11299.0\n",
       "2020-03-21        304549.0    91676.0   12973.0\n",
       "2020-03-22        337122.0    97243.0   14623.0\n",
       "2020-03-23        378287.0   100958.0   16497.0\n",
       "2020-03-24        417966.0   107705.0   18615.0\n",
       "2020-03-25        467594.0   113770.0   21181.0\n",
       "2020-03-26        529591.0   122150.0   23970.0\n",
       "2020-03-27        593291.0   130915.0   27198.0\n",
       "2020-03-28        660693.0   139415.0   30652.0\n",
       "2020-03-29        720140.0   149082.0   33925.0\n",
       "2020-03-30        782389.0   164566.0   37582.0\n",
       "2020-03-31        857487.0   178034.0   42107.0\n",
       "2020-04-01        932605.0   193177.0   46809.0\n",
       "2020-04-02       1013303.0   210263.0   52983.0\n",
       "2020-04-03       1095917.0   225796.0   58787.0\n",
       "2020-04-04       1197408.0   246152.0   64606.0\n",
       "2020-04-05       1272115.0   260012.0   69374.0\n",
       "2020-04-06       1345101.0   276515.0   74565.0\n",
       "2020-04-07       1426096.0   300054.0   81865.0\n",
       "2020-04-08       1511104.0   328661.0   88338.0\n",
       "2020-04-09       1595350.0   353975.0   95455.0\n",
       "2020-04-10       1691719.0   376096.0  102525.0"
      ]
     },
     "execution_count": 227,
     "metadata": {},
     "output_type": "execute_result"
    }
   ],
   "source": [
    "dataset_rnn\n"
   ]
  },
  {
   "cell_type": "code",
   "execution_count": 228,
   "id": "6020944b",
   "metadata": {},
   "outputs": [
    {
     "data": {
      "text/plain": [
       "(80, 3)"
      ]
     },
     "execution_count": 228,
     "metadata": {},
     "output_type": "execute_result"
    }
   ],
   "source": [
    "dataset_rnn.shape\n"
   ]
  },
  {
   "cell_type": "code",
   "execution_count": 229,
   "id": "591d6940",
   "metadata": {},
   "outputs": [
    {
     "name": "stdout",
     "output_type": "stream",
     "text": [
      "[[0.00000000e+00]\n",
      " [5.79482534e-05]\n",
      " [2.28245161e-04]\n",
      " [5.22125589e-04]\n",
      " [9.24215511e-04]\n",
      " [1.40258426e-03]\n",
      " [2.97014364e-03]\n",
      " [3.31724185e-03]\n",
      " [4.54125088e-03]\n",
      " [5.54056259e-03]\n",
      " [6.78999789e-03]\n",
      " [9.59812295e-03]\n",
      " [1.14276321e-02]\n",
      " [1.37993713e-02]\n",
      " [1.60132311e-02]\n",
      " [1.78947754e-02]\n",
      " [2.00081128e-02]\n",
      " [2.16217942e-02]\n",
      " [2.34134596e-02]\n",
      " [2.49579580e-02]\n",
      " [2.61642277e-02]\n",
      " [2.64119861e-02]\n",
      " [3.53691304e-02]\n",
      " [3.92226892e-02]\n",
      " [4.04910464e-02]\n",
      " [4.17883777e-02]\n",
      " [4.29910996e-02]\n",
      " [4.41015774e-02]\n",
      " [4.43990057e-02]\n",
      " [4.47289559e-02]\n",
      " [4.51097587e-02]\n",
      " [4.61480968e-02]\n",
      " [4.63763420e-02]\n",
      " [4.67222576e-02]\n",
      " [4.72219134e-02]\n",
      " [4.78025786e-02]\n",
      " [4.86061671e-02]\n",
      " [4.94150774e-02]\n",
      " [5.05320596e-02]\n",
      " [5.19263655e-02]\n",
      " [5.30723218e-02]\n",
      " [5.45712894e-02]\n",
      " [5.59194732e-02]\n",
      " [5.75526679e-02]\n",
      " [5.98670502e-02]\n",
      " [6.22535721e-02]\n",
      " [6.46182156e-02]\n",
      " [6.68338493e-02]\n",
      " [6.97903929e-02]\n",
      " [7.40968942e-02]\n",
      " [7.55621572e-02]\n",
      " [8.55257089e-02]\n",
      " [9.19745217e-02]\n",
      " [9.86846929e-02]\n",
      " [1.07021554e-01]\n",
      " [1.16258979e-01]\n",
      " [1.26752935e-01]\n",
      " [1.43190134e-01]\n",
      " [1.60606541e-01]\n",
      " [1.79754299e-01]\n",
      " [1.99014998e-01]\n",
      " [2.23356221e-01]\n",
      " [2.46818759e-01]\n",
      " [2.76164228e-01]\n",
      " [3.12823594e-01]\n",
      " [3.50489958e-01]\n",
      " [3.90345348e-01]\n",
      " [4.25496877e-01]\n",
      " [4.62305252e-01]\n",
      " [5.06711354e-01]\n",
      " [5.51129281e-01]\n",
      " [5.98846711e-01]\n",
      " [6.47697089e-01]\n",
      " [7.07709601e-01]\n",
      " [7.51884501e-01]\n",
      " [7.95041758e-01]\n",
      " [8.42934807e-01]\n",
      " [8.93200778e-01]\n",
      " [9.43016171e-01]\n",
      " [1.00000000e+00]]\n",
      "Epoch 1/50\n",
      "3/3 [==============================] - 6s 45ms/step - loss: 0.0074\n",
      "Epoch 2/50\n",
      "3/3 [==============================] - 0s 36ms/step - loss: 0.0027\n",
      "Epoch 3/50\n",
      "3/3 [==============================] - 0s 33ms/step - loss: 0.0019\n",
      "Epoch 4/50\n",
      "3/3 [==============================] - 0s 31ms/step - loss: 0.0016\n",
      "Epoch 5/50\n",
      "3/3 [==============================] - 0s 36ms/step - loss: 0.0014\n",
      "Epoch 6/50\n",
      "3/3 [==============================] - 0s 35ms/step - loss: 0.0013\n",
      "Epoch 7/50\n",
      "3/3 [==============================] - 0s 34ms/step - loss: 0.0015\n",
      "Epoch 8/50\n",
      "3/3 [==============================] - 0s 34ms/step - loss: 0.0011\n",
      "Epoch 9/50\n",
      "3/3 [==============================] - 0s 38ms/step - loss: 0.0017\n",
      "Epoch 10/50\n",
      "3/3 [==============================] - 0s 91ms/step - loss: 0.0013\n",
      "Epoch 11/50\n",
      "3/3 [==============================] - 0s 50ms/step - loss: 0.0011\n",
      "Epoch 12/50\n",
      "3/3 [==============================] - 0s 57ms/step - loss: 0.0014\n",
      "Epoch 13/50\n",
      "3/3 [==============================] - 0s 56ms/step - loss: 0.0015\n",
      "Epoch 14/50\n",
      "3/3 [==============================] - 0s 46ms/step - loss: 0.0016\n",
      "Epoch 15/50\n",
      "3/3 [==============================] - 0s 35ms/step - loss: 0.0015\n",
      "Epoch 16/50\n",
      "3/3 [==============================] - 0s 42ms/step - loss: 0.0014\n",
      "Epoch 17/50\n",
      "3/3 [==============================] - 0s 47ms/step - loss: 0.0012\n",
      "Epoch 18/50\n",
      "3/3 [==============================] - 0s 47ms/step - loss: 0.0012\n",
      "Epoch 19/50\n",
      "3/3 [==============================] - 0s 49ms/step - loss: 0.0014\n",
      "Epoch 20/50\n",
      "3/3 [==============================] - 0s 47ms/step - loss: 0.0011\n",
      "Epoch 21/50\n",
      "3/3 [==============================] - 0s 41ms/step - loss: 0.0012\n",
      "Epoch 22/50\n",
      "3/3 [==============================] - 0s 37ms/step - loss: 9.4583e-04\n",
      "Epoch 23/50\n",
      "3/3 [==============================] - 0s 36ms/step - loss: 0.0010\n",
      "Epoch 24/50\n",
      "3/3 [==============================] - 0s 42ms/step - loss: 0.0011\n",
      "Epoch 25/50\n",
      "3/3 [==============================] - 0s 94ms/step - loss: 9.2592e-04\n",
      "Epoch 26/50\n",
      "3/3 [==============================] - 0s 40ms/step - loss: 9.7413e-04\n",
      "Epoch 27/50\n",
      "3/3 [==============================] - 0s 54ms/step - loss: 0.0017\n",
      "Epoch 28/50\n",
      "3/3 [==============================] - 0s 57ms/step - loss: 9.4756e-04\n",
      "Epoch 29/50\n",
      "3/3 [==============================] - 0s 46ms/step - loss: 0.0011\n",
      "Epoch 30/50\n",
      "3/3 [==============================] - 0s 43ms/step - loss: 0.0013\n",
      "Epoch 31/50\n",
      "3/3 [==============================] - 0s 41ms/step - loss: 4.1265e-04\n",
      "Epoch 32/50\n",
      "3/3 [==============================] - 0s 70ms/step - loss: 0.0011\n",
      "Epoch 33/50\n",
      "3/3 [==============================] - 0s 33ms/step - loss: 7.3527e-04\n",
      "Epoch 34/50\n",
      "3/3 [==============================] - 0s 32ms/step - loss: 8.4204e-04\n",
      "Epoch 35/50\n",
      "3/3 [==============================] - 0s 30ms/step - loss: 5.2288e-04\n",
      "Epoch 36/50\n",
      "3/3 [==============================] - 0s 30ms/step - loss: 4.5925e-04\n",
      "Epoch 37/50\n",
      "3/3 [==============================] - 0s 30ms/step - loss: 5.8527e-04\n",
      "Epoch 38/50\n",
      "3/3 [==============================] - 0s 32ms/step - loss: 5.0337e-04\n",
      "Epoch 39/50\n",
      "3/3 [==============================] - 0s 24ms/step - loss: 3.4244e-04\n",
      "Epoch 40/50\n",
      "3/3 [==============================] - 0s 31ms/step - loss: 2.7716e-04\n",
      "Epoch 41/50\n",
      "3/3 [==============================] - 0s 30ms/step - loss: 1.7348e-04\n",
      "Epoch 42/50\n",
      "3/3 [==============================] - 0s 40ms/step - loss: 1.5227e-04\n",
      "Epoch 43/50\n",
      "3/3 [==============================] - 0s 31ms/step - loss: 9.9905e-05\n",
      "Epoch 44/50\n",
      "3/3 [==============================] - 0s 31ms/step - loss: 1.8803e-04\n",
      "Epoch 45/50\n",
      "3/3 [==============================] - 0s 29ms/step - loss: 2.2286e-04\n",
      "Epoch 46/50\n",
      "3/3 [==============================] - 0s 31ms/step - loss: 3.9854e-04\n",
      "Epoch 47/50\n",
      "3/3 [==============================] - 0s 30ms/step - loss: 2.4786e-04\n",
      "Epoch 48/50\n",
      "3/3 [==============================] - 0s 30ms/step - loss: 2.7942e-04\n",
      "Epoch 49/50\n",
      "3/3 [==============================] - 0s 29ms/step - loss: 2.5541e-04\n",
      "Epoch 50/50\n",
      "3/3 [==============================] - 0s 29ms/step - loss: 2.2267e-04\n"
     ]
    },
    {
     "data": {
      "text/plain": [
       "<keras.callbacks.History at 0x2fa32df9b50>"
      ]
     },
     "execution_count": 229,
     "metadata": {},
     "output_type": "execute_result"
    }
   ],
   "source": [
    "training_set = dataset_rnn.iloc[:,0:1]\n",
    "#Date Preprocessing\n",
    "sc = MinMaxScaler(feature_range=(0,1))\n",
    "training_set_scaled = sc.fit_transform(training_set)\n",
    "print(training_set_scaled)\n",
    "#Creating data structure with 45 timesteps \n",
    "X_train = []\n",
    "y_train = []\n",
    "for i in range(45, 60):\n",
    "    X_train.append(training_set_scaled[i-45:i, 0])\n",
    "    y_train.append(training_set_scaled[i, 0])\n",
    "    \n",
    "X_train, y_train = np.array(X_train) , np.array(y_train)   \n",
    "\n",
    "#Reshaping\n",
    "X_train = np.reshape(X_train, (X_train.shape[0], X_train.shape[1], 1))\n",
    "\n",
    "regressor = Sequential()\n",
    "\n",
    "#Add first LSTM layer and Dropout regularisation\n",
    "regressor.add(LSTM(units =50, return_sequences = True, input_shape = (X_train.shape[1], 1)))\n",
    "regressor.add(Dropout(0.2))\n",
    "\n",
    "#Adding second layer\n",
    "regressor.add(LSTM(units =50, return_sequences = True))\n",
    "regressor.add(Dropout(0.2))\n",
    "\n",
    "#Adding third layer\n",
    "regressor.add(LSTM(units =50, return_sequences = True))\n",
    "regressor.add(Dropout(0.2))\n",
    "\n",
    "#Adding fourth layer\n",
    "regressor.add(LSTM(units =50))\n",
    "regressor.add(Dropout(0.2))\n",
    "\n",
    "#Output layer\n",
    "regressor.add(Dense(units = 1))\n",
    "\n",
    "regressor.compile(optimizer = 'adam', loss = 'mse')\n",
    "\n",
    "\n",
    "#Training the model\n",
    "#Taking a small batch size because the number of data points to train on is limited\n",
    "regressor.fit(X_train, y_train, epochs = 50, batch_size = 5)\n"
   ]
  },
  {
   "cell_type": "code",
   "execution_count": 230,
   "id": "35dce8eb",
   "metadata": {},
   "outputs": [
    {
     "name": "stdout",
     "output_type": "stream",
     "text": [
      "WARNING:tensorflow:5 out of the last 7 calls to <function Model.make_predict_function.<locals>.predict_function at 0x000002FA32E16670> triggered tf.function retracing. Tracing is expensive and the excessive number of tracings could be due to (1) creating @tf.function repeatedly in a loop, (2) passing tensors with different shapes, (3) passing Python objects instead of tensors. For (1), please define your @tf.function outside of the loop. For (2), @tf.function has reduce_retracing=True option that can avoid unnecessary retracing. For (3), please refer to https://www.tensorflow.org/guide/function#controlling_retracing and https://www.tensorflow.org/api_docs/python/tf/function for  more details.\n",
      "1/1 [==============================] - 2s 2s/step\n",
      "[[ 259576.72]\n",
      " [ 277285.25]\n",
      " [ 296622.03]\n",
      " [ 318003.84]\n",
      " [ 341922.4 ]\n",
      " [ 368865.56]\n",
      " [ 399463.84]\n",
      " [ 434326.44]\n",
      " [ 474213.94]\n",
      " [ 519986.  ]\n",
      " [ 572644.25]\n",
      " [ 631823.2 ]\n",
      " [ 698967.06]\n",
      " [ 775024.9 ]\n",
      " [ 860337.8 ]\n",
      " [ 954936.3 ]\n",
      " [1058419.5 ]\n",
      " [1170020.2 ]\n",
      " [1288259.  ]\n",
      " [1411087.5 ]]\n"
     ]
    }
   ],
   "source": [
    "#Prediction and visualization\n",
    "real_confirmed_cases = dataset_rnn.iloc[57:77,0:1]\n",
    "#print(real_confirmed_cases)\n",
    "X_test = []\n",
    "\n",
    "for i in range(57,77):\n",
    "    X_test.append(training_set_scaled[i-45:i, 0])\n",
    "X_test = np.array(X_test)\n",
    "#print(training_set_scaled)\n",
    "X_test = np.reshape(X_test, (X_test.shape[0], X_test.shape[1], 1))\n",
    "\n",
    "predicted_confirmed_cases = regressor.predict(X_test)\n",
    "predicted_confirmed_cases = sc.inverse_transform(predicted_confirmed_cases)\n",
    "print(predicted_confirmed_cases)\n",
    "\n",
    "\n",
    "\n"
   ]
  },
  {
   "cell_type": "code",
   "execution_count": 231,
   "id": "e1b2432a",
   "metadata": {},
   "outputs": [
    {
     "data": {
      "image/png": "[encoded data removed]",
      "text/plain": [
       "<Figure size 1000x600 with 1 Axes>"
      ]
     },
     "metadata": {},
     "output_type": "display_data"
    }
   ],
   "source": [
    "# from matplotlib import pyplot as plt\n",
    "\n",
    "plt.figure(figsize = (10,6))\n",
    "plt.plot(real_confirmed_cases.values, color='c',marker = 'o', label = 'Real Confirmed Cases')\n",
    "plt.plot(predicted_confirmed_cases, color='g',marker = 'o', label = 'Predicted Number of Cases')\n",
    "plt.title('Coronavirus Forecasting Trend in Cases (From 18th March to 7th April)')\n",
    "plt.xlabel('Days')\n",
    "plt.ylabel('Number of Cases')\n",
    "plt.legend()\n",
    "plt.show()\n",
    "\n"
   ]
  },
  {
   "cell_type": "code",
   "execution_count": 252,
   "id": "927d3a65",
   "metadata": {},
   "outputs": [
    {
     "name": "stdout",
     "output_type": "stream",
     "text": [
      "[ 259576.72  277285.25  296622.03  318003.84  341922.4   368865.56\n",
      "  399463.84  434326.44  474213.94  519986.    572644.25  631823.2\n",
      "  698967.06  775024.9   860337.8   954936.3  1058419.5  1170020.2\n",
      " 1288259.   1411087.5 ]\n",
      "                 Confirmed\n",
      "ObservationDate           \n",
      "2020-03-19        242713.0\n",
      "2020-03-20        272167.0\n",
      "2020-03-21        304549.0\n",
      "2020-03-22        337122.0\n",
      "2020-03-23        378287.0\n",
      "2020-03-24        417966.0\n",
      "2020-03-25        467594.0\n",
      "2020-03-26        529591.0\n",
      "2020-03-27        593291.0\n",
      "2020-03-28        660693.0\n",
      "2020-03-29        720140.0\n",
      "2020-03-30        782389.0\n",
      "2020-03-31        857487.0\n",
      "2020-04-01        932605.0\n",
      "2020-04-02       1013303.0\n",
      "2020-04-03       1095917.0\n",
      "2020-04-04       1197408.0\n",
      "2020-04-05       1272115.0\n",
      "2020-04-06       1345101.0\n",
      "2020-04-07       1426096.0\n",
      "105599.11436910956\n"
     ]
    }
   ],
   "source": [
    "# from keras.metrics.metrics import mean_squared_error\n",
    "# from math import sqrt\n",
    "\n",
    "\n",
    "\n",
    "# a=np.array(predicted_confirmed_cases)\n",
    "# b=np.array(real_confirmed_cases)\n",
    "\n",
    "predicted=np.array(predicted_confirmed_cases)\n",
    "predicted=predicted.flatten()\n",
    "\n",
    "print(predicted)\n",
    "print(real_confirmed_cases)\n",
    "\n",
    "lstm_rmse = sqrt(mean_squared_error(real_confirmed_cases['Confirmed'],predicted))\n",
    "print(lstm_rmse)"
   ]
  },
  {
   "cell_type": "code",
   "execution_count": 234,
   "id": "2bffbbf7",
   "metadata": {},
   "outputs": [
    {
     "data": {
      "text/html": [
       "<div>\n",
       "<style scoped>\n",
       "    .dataframe tbody tr th:only-of-type {\n",
       "        vertical-align: middle;\n",
       "    }\n",
       "\n",
       "    .dataframe tbody tr th {\n",
       "        vertical-align: top;\n",
       "    }\n",
       "\n",
       "    .dataframe thead th {\n",
       "        text-align: right;\n",
       "    }\n",
       "</style>\n",
       "<table border=\"1\" class=\"dataframe\">\n",
       "  <thead>\n",
       "    <tr style=\"text-align: right;\">\n",
       "      <th></th>\n",
       "      <th>SNo</th>\n",
       "      <th>ObservationDate</th>\n",
       "      <th>Province/State</th>\n",
       "      <th>Country/Region</th>\n",
       "      <th>Last Update</th>\n",
       "      <th>Confirmed</th>\n",
       "      <th>Deaths</th>\n",
       "      <th>Recovered</th>\n",
       "    </tr>\n",
       "  </thead>\n",
       "  <tbody>\n",
       "    <tr>\n",
       "      <th>13845</th>\n",
       "      <td>13846</td>\n",
       "      <td>2020-04-10</td>\n",
       "      <td>Wyoming</td>\n",
       "      <td>US</td>\n",
       "      <td>2020-04-10 23:01:43</td>\n",
       "      <td>239.0</td>\n",
       "      <td>0.0</td>\n",
       "      <td>0.0</td>\n",
       "    </tr>\n",
       "    <tr>\n",
       "      <th>13846</th>\n",
       "      <td>13847</td>\n",
       "      <td>2020-04-10</td>\n",
       "      <td>Xinjiang</td>\n",
       "      <td>Mainland China</td>\n",
       "      <td>2020-04-10 23:01:43</td>\n",
       "      <td>76.0</td>\n",
       "      <td>3.0</td>\n",
       "      <td>73.0</td>\n",
       "    </tr>\n",
       "    <tr>\n",
       "      <th>13847</th>\n",
       "      <td>13848</td>\n",
       "      <td>2020-04-10</td>\n",
       "      <td>Yukon</td>\n",
       "      <td>Canada</td>\n",
       "      <td>2020-04-10 23:01:43</td>\n",
       "      <td>8.0</td>\n",
       "      <td>0.0</td>\n",
       "      <td>0.0</td>\n",
       "    </tr>\n",
       "    <tr>\n",
       "      <th>13848</th>\n",
       "      <td>13849</td>\n",
       "      <td>2020-04-10</td>\n",
       "      <td>Yunnan</td>\n",
       "      <td>Mainland China</td>\n",
       "      <td>2020-04-10 23:01:43</td>\n",
       "      <td>184.0</td>\n",
       "      <td>2.0</td>\n",
       "      <td>173.0</td>\n",
       "    </tr>\n",
       "    <tr>\n",
       "      <th>13849</th>\n",
       "      <td>13850</td>\n",
       "      <td>2020-04-10</td>\n",
       "      <td>Zhejiang</td>\n",
       "      <td>Mainland China</td>\n",
       "      <td>2020-04-10 23:01:43</td>\n",
       "      <td>1267.0</td>\n",
       "      <td>1.0</td>\n",
       "      <td>1235.0</td>\n",
       "    </tr>\n",
       "  </tbody>\n",
       "</table>\n",
       "</div>"
      ],
      "text/plain": [
       "         SNo ObservationDate Province/State  Country/Region  \\\n",
       "13845  13846      2020-04-10        Wyoming              US   \n",
       "13846  13847      2020-04-10       Xinjiang  Mainland China   \n",
       "13847  13848      2020-04-10          Yukon          Canada   \n",
       "13848  13849      2020-04-10         Yunnan  Mainland China   \n",
       "13849  13850      2020-04-10       Zhejiang  Mainland China   \n",
       "\n",
       "              Last Update  Confirmed  Deaths  Recovered  \n",
       "13845 2020-04-10 23:01:43      239.0     0.0        0.0  \n",
       "13846 2020-04-10 23:01:43       76.0     3.0       73.0  \n",
       "13847 2020-04-10 23:01:43        8.0     0.0        0.0  \n",
       "13848 2020-04-10 23:01:43      184.0     2.0      173.0  \n",
       "13849 2020-04-10 23:01:43     1267.0     1.0     1235.0  "
      ]
     },
     "execution_count": 234,
     "metadata": {},
     "output_type": "execute_result"
    }
   ],
   "source": [
    "\n",
    "data_arima = pd.read_csv(r'covid_19_data.csv')\n",
    "\n",
    "data_arima['ObservationDate'] = pd.to_datetime(data_arima['ObservationDate'])\n",
    "data_arima['Last Update'] = pd.to_datetime(data_arima['Last Update'])\n",
    "\n",
    "data_arima.tail()"
   ]
  },
  {
   "cell_type": "code",
   "execution_count": 235,
   "id": "99d6fcba",
   "metadata": {},
   "outputs": [],
   "source": [
    "covid_data = data_arima.groupby(['ObservationDate'])['Confirmed'].sum()\n"
   ]
  },
  {
   "cell_type": "code",
   "execution_count": 236,
   "id": "53e9a9fa",
   "metadata": {},
   "outputs": [
    {
     "name": "stdout",
     "output_type": "stream",
     "text": [
      "Performing stepwise search to minimize aic\n",
      " ARIMA(2,2,2)(0,0,0)[0]             : AIC=1576.579, Time=0.10 sec\n",
      " ARIMA(0,2,0)(0,0,0)[0]             : AIC=1576.362, Time=0.01 sec\n",
      " ARIMA(1,2,0)(0,0,0)[0]             : AIC=1574.906, Time=0.01 sec\n",
      " ARIMA(0,2,1)(0,0,0)[0]             : AIC=1575.045, Time=0.02 sec\n",
      " ARIMA(2,2,0)(0,0,0)[0]             : AIC=1576.795, Time=0.02 sec\n",
      " ARIMA(1,2,1)(0,0,0)[0]             : AIC=1576.939, Time=0.02 sec\n",
      " ARIMA(2,2,1)(0,0,0)[0]             : AIC=1578.807, Time=0.05 sec\n",
      " ARIMA(1,2,0)(0,0,0)[0] intercept   : AIC=1571.414, Time=0.01 sec\n",
      " ARIMA(0,2,0)(0,0,0)[0] intercept   : AIC=1574.776, Time=0.01 sec\n",
      " ARIMA(2,2,0)(0,0,0)[0] intercept   : AIC=1572.470, Time=0.02 sec\n",
      " ARIMA(1,2,1)(0,0,0)[0] intercept   : AIC=1573.447, Time=0.04 sec\n",
      " ARIMA(0,2,1)(0,0,0)[0] intercept   : AIC=1571.991, Time=0.02 sec\n",
      " ARIMA(2,2,1)(0,0,0)[0] intercept   : AIC=1574.535, Time=0.03 sec\n",
      "\n",
      "Best model:  ARIMA(1,2,0)(0,0,0)[0] intercept\n",
      "Total fit time: 0.343 seconds\n"
     ]
    },
    {
     "data": {
      "text/html": [
       "<table class=\"simpletable\">\n",
       "<caption>SARIMAX Results</caption>\n",
       "<tr>\n",
       "  <th>Dep. Variable:</th>           <td>y</td>        <th>  No. Observations:  </th>    <td>80</td>   \n",
       "</tr>\n",
       "<tr>\n",
       "  <th>Model:</th>           <td>SARIMAX(1, 2, 0)</td> <th>  Log Likelihood     </th> <td>-782.707</td>\n",
       "</tr>\n",
       "<tr>\n",
       "  <th>Date:</th>            <td>Tue, 29 Nov 2022</td> <th>  AIC                </th> <td>1571.414</td>\n",
       "</tr>\n",
       "<tr>\n",
       "  <th>Time:</th>                <td>00:05:46</td>     <th>  BIC                </th> <td>1578.484</td>\n",
       "</tr>\n",
       "<tr>\n",
       "  <th>Sample:</th>                  <td>0</td>        <th>  HQIC               </th> <td>1574.244</td>\n",
       "</tr>\n",
       "<tr>\n",
       "  <th></th>                       <td> - 80</td>      <th>                     </th>     <td> </td>   \n",
       "</tr>\n",
       "<tr>\n",
       "  <th>Covariance Type:</th>        <td>opg</td>       <th>                     </th>     <td> </td>   \n",
       "</tr>\n",
       "</table>\n",
       "<table class=\"simpletable\">\n",
       "<tr>\n",
       "      <td></td>         <th>coef</th>     <th>std err</th>      <th>z</th>      <th>P>|z|</th>  <th>[0.025</th>    <th>0.975]</th>  \n",
       "</tr>\n",
       "<tr>\n",
       "  <th>intercept</th> <td> 1537.4612</td> <td>  681.430</td> <td>    2.256</td> <td> 0.024</td> <td>  201.884</td> <td> 2873.039</td>\n",
       "</tr>\n",
       "<tr>\n",
       "  <th>ar.L1</th>     <td>   -0.2647</td> <td>    0.059</td> <td>   -4.495</td> <td> 0.000</td> <td>   -0.380</td> <td>   -0.149</td>\n",
       "</tr>\n",
       "<tr>\n",
       "  <th>sigma2</th>    <td> 3.081e+07</td> <td>    0.037</td> <td> 8.28e+08</td> <td> 0.000</td> <td> 3.08e+07</td> <td> 3.08e+07</td>\n",
       "</tr>\n",
       "</table>\n",
       "<table class=\"simpletable\">\n",
       "<tr>\n",
       "  <th>Ljung-Box (L1) (Q):</th>     <td>0.07</td> <th>  Jarque-Bera (JB):  </th> <td>68.28</td>\n",
       "</tr>\n",
       "<tr>\n",
       "  <th>Prob(Q):</th>                <td>0.79</td> <th>  Prob(JB):          </th> <td>0.00</td> \n",
       "</tr>\n",
       "<tr>\n",
       "  <th>Heteroskedasticity (H):</th> <td>5.15</td> <th>  Skew:              </th> <td>0.09</td> \n",
       "</tr>\n",
       "<tr>\n",
       "  <th>Prob(H) (two-sided):</th>    <td>0.00</td> <th>  Kurtosis:          </th> <td>7.58</td> \n",
       "</tr>\n",
       "</table><br/><br/>Warnings:<br/>[1] Covariance matrix calculated using the outer product of gradients (complex-step).<br/>[2] Covariance matrix is singular or near-singular, with condition number 2.22e+24. Standard errors may be unstable."
      ],
      "text/plain": [
       "<class 'statsmodels.iolib.summary.Summary'>\n",
       "\"\"\"\n",
       "                               SARIMAX Results                                \n",
       "==============================================================================\n",
       "Dep. Variable:                      y   No. Observations:                   80\n",
       "Model:               SARIMAX(1, 2, 0)   Log Likelihood                -782.707\n",
       "Date:                Tue, 29 Nov 2022   AIC                           1571.414\n",
       "Time:                        00:05:46   BIC                           1578.484\n",
       "Sample:                             0   HQIC                          1574.244\n",
       "                                 - 80                                         \n",
       "Covariance Type:                  opg                                         \n",
       "==============================================================================\n",
       "                 coef    std err          z      P>|z|      [0.025      0.975]\n",
       "------------------------------------------------------------------------------\n",
       "intercept   1537.4612    681.430      2.256      0.024     201.884    2873.039\n",
       "ar.L1         -0.2647      0.059     -4.495      0.000      -0.380      -0.149\n",
       "sigma2      3.081e+07      0.037   8.28e+08      0.000    3.08e+07    3.08e+07\n",
       "===================================================================================\n",
       "Ljung-Box (L1) (Q):                   0.07   Jarque-Bera (JB):                68.28\n",
       "Prob(Q):                              0.79   Prob(JB):                         0.00\n",
       "Heteroskedasticity (H):               5.15   Skew:                             0.09\n",
       "Prob(H) (two-sided):                  0.00   Kurtosis:                         7.58\n",
       "===================================================================================\n",
       "\n",
       "Warnings:\n",
       "[1] Covariance matrix calculated using the outer product of gradients (complex-step).\n",
       "[2] Covariance matrix is singular or near-singular, with condition number 2.22e+24. Standard errors may be unstable.\n",
       "\"\"\""
      ]
     },
     "execution_count": 236,
     "metadata": {},
     "output_type": "execute_result"
    }
   ],
   "source": [
    "\n",
    "warnings.filterwarnings(\"ignore\")\n",
    "arima=auto_arima(covid_data, trace=True, suppress_warnings=True)\n",
    "arima.summary()\n"
   ]
  },
  {
   "cell_type": "code",
   "execution_count": 237,
   "id": "d4f02a27",
   "metadata": {},
   "outputs": [
    {
     "name": "stdout",
     "output_type": "stream",
     "text": [
      "ObservationDate\n",
      "2020-03-19     242713.0\n",
      "2020-03-20     272167.0\n",
      "2020-03-21     304549.0\n",
      "2020-03-22     337122.0\n",
      "2020-03-23     378287.0\n",
      "2020-03-24     417966.0\n",
      "2020-03-25     467594.0\n",
      "2020-03-26     529591.0\n",
      "2020-03-27     593291.0\n",
      "2020-03-28     660693.0\n",
      "2020-03-29     720140.0\n",
      "2020-03-30     782389.0\n",
      "2020-03-31     857487.0\n",
      "2020-04-01     932605.0\n",
      "2020-04-02    1013303.0\n",
      "2020-04-03    1095917.0\n",
      "2020-04-04    1197408.0\n",
      "2020-04-05    1272115.0\n",
      "2020-04-06    1345101.0\n",
      "2020-04-07    1426096.0\n",
      "Name: Confirmed, dtype: float64\n"
     ]
    }
   ],
   "source": [
    "\n",
    "\n",
    "#creating training and testing sets\n",
    "\n",
    "train=covid_data.iloc[:57]\n",
    "test=covid_data.iloc[57:77]\n",
    "print(test)\n",
    "\n"
   ]
  },
  {
   "cell_type": "code",
   "execution_count": 238,
   "id": "c3400c83",
   "metadata": {},
   "outputs": [
    {
     "data": {
      "text/html": [
       "<table class=\"simpletable\">\n",
       "<caption>SARIMAX Results</caption>\n",
       "<tr>\n",
       "  <th>Dep. Variable:</th>       <td>Confirmed</td>    <th>  No. Observations:  </th>    <td>57</td>   \n",
       "</tr>\n",
       "<tr>\n",
       "  <th>Model:</th>            <td>ARIMA(1, 2, 0)</td>  <th>  Log Likelihood     </th> <td>-518.786</td>\n",
       "</tr>\n",
       "<tr>\n",
       "  <th>Date:</th>            <td>Tue, 29 Nov 2022</td> <th>  AIC                </th> <td>1041.571</td>\n",
       "</tr>\n",
       "<tr>\n",
       "  <th>Time:</th>                <td>00:05:46</td>     <th>  BIC                </th> <td>1045.586</td>\n",
       "</tr>\n",
       "<tr>\n",
       "  <th>Sample:</th>             <td>01-22-2020</td>    <th>  HQIC               </th> <td>1043.124</td>\n",
       "</tr>\n",
       "<tr>\n",
       "  <th></th>                   <td>- 03-18-2020</td>   <th>                     </th>     <td> </td>   \n",
       "</tr>\n",
       "<tr>\n",
       "  <th>Covariance Type:</th>        <td>opg</td>       <th>                     </th>     <td> </td>   \n",
       "</tr>\n",
       "</table>\n",
       "<table class=\"simpletable\">\n",
       "<tr>\n",
       "     <td></td>       <th>coef</th>     <th>std err</th>      <th>z</th>      <th>P>|z|</th>  <th>[0.025</th>    <th>0.975]</th>  \n",
       "</tr>\n",
       "<tr>\n",
       "  <th>ar.L1</th>  <td>   -0.4523</td> <td>    0.097</td> <td>   -4.685</td> <td> 0.000</td> <td>   -0.641</td> <td>   -0.263</td>\n",
       "</tr>\n",
       "<tr>\n",
       "  <th>sigma2</th> <td> 9.294e+06</td> <td> 7.39e+05</td> <td>   12.579</td> <td> 0.000</td> <td> 7.85e+06</td> <td> 1.07e+07</td>\n",
       "</tr>\n",
       "</table>\n",
       "<table class=\"simpletable\">\n",
       "<tr>\n",
       "  <th>Ljung-Box (L1) (Q):</th>     <td>1.15</td>  <th>  Jarque-Bera (JB):  </th> <td>301.82</td>\n",
       "</tr>\n",
       "<tr>\n",
       "  <th>Prob(Q):</th>                <td>0.28</td>  <th>  Prob(JB):          </th>  <td>0.00</td> \n",
       "</tr>\n",
       "<tr>\n",
       "  <th>Heteroskedasticity (H):</th> <td>13.63</td> <th>  Skew:              </th>  <td>2.29</td> \n",
       "</tr>\n",
       "<tr>\n",
       "  <th>Prob(H) (two-sided):</th>    <td>0.00</td>  <th>  Kurtosis:          </th>  <td>13.52</td>\n",
       "</tr>\n",
       "</table><br/><br/>Warnings:<br/>[1] Covariance matrix calculated using the outer product of gradients (complex-step)."
      ],
      "text/plain": [
       "<class 'statsmodels.iolib.summary.Summary'>\n",
       "\"\"\"\n",
       "                               SARIMAX Results                                \n",
       "==============================================================================\n",
       "Dep. Variable:              Confirmed   No. Observations:                   57\n",
       "Model:                 ARIMA(1, 2, 0)   Log Likelihood                -518.786\n",
       "Date:                Tue, 29 Nov 2022   AIC                           1041.571\n",
       "Time:                        00:05:46   BIC                           1045.586\n",
       "Sample:                    01-22-2020   HQIC                          1043.124\n",
       "                         - 03-18-2020                                         \n",
       "Covariance Type:                  opg                                         \n",
       "==============================================================================\n",
       "                 coef    std err          z      P>|z|      [0.025      0.975]\n",
       "------------------------------------------------------------------------------\n",
       "ar.L1         -0.4523      0.097     -4.685      0.000      -0.641      -0.263\n",
       "sigma2      9.294e+06   7.39e+05     12.579      0.000    7.85e+06    1.07e+07\n",
       "===================================================================================\n",
       "Ljung-Box (L1) (Q):                   1.15   Jarque-Bera (JB):               301.82\n",
       "Prob(Q):                              0.28   Prob(JB):                         0.00\n",
       "Heteroskedasticity (H):              13.63   Skew:                             2.29\n",
       "Prob(H) (two-sided):                  0.00   Kurtosis:                        13.52\n",
       "===================================================================================\n",
       "\n",
       "Warnings:\n",
       "[1] Covariance matrix calculated using the outer product of gradients (complex-step).\n",
       "\"\"\""
      ]
     },
     "execution_count": 238,
     "metadata": {},
     "output_type": "execute_result"
    }
   ],
   "source": [
    "\n",
    "\n",
    "#training the model with the recommended p,d,q =>(1,2,0)\n",
    "model=sm.tsa.arima.ARIMA(train,order=(1,2,0)).fit()\n",
    "model.summary()\n"
   ]
  },
  {
   "cell_type": "code",
   "execution_count": 239,
   "id": "108cd44c",
   "metadata": {},
   "outputs": [
    {
     "name": "stdout",
     "output_type": "stream",
     "text": [
      "2020-03-19    231700.953691\n",
      "2020-03-20    248921.547386\n",
      "2020-03-21    265945.572059\n",
      "2020-03-22    283058.496465\n",
      "2020-03-23    300131.215337\n",
      "2020-03-24    317222.117447\n",
      "2020-03-25    334304.796059\n",
      "2020-03-26    351391.193806\n",
      "2020-03-27    368475.909547\n",
      "2020-03-28    385561.385987\n",
      "2020-03-29    402646.518396\n",
      "2020-03-30    419731.806396\n",
      "2020-03-31    436817.024029\n",
      "2020-04-01    453902.273485\n",
      "2020-04-02    470987.508549\n",
      "2020-04-03    488072.750122\n",
      "2020-04-04    505157.988752\n",
      "2020-04-05    522243.228713\n",
      "2020-04-06    539328.468071\n",
      "2020-04-07    556413.707702\n",
      "Freq: D, Name: predicted_mean, dtype: float64\n"
     ]
    },
    {
     "data": {
      "image/png": "[encoded data removed]",
      "text/plain": [
       "<Figure size 1500x600 with 1 Axes>"
      ]
     },
     "metadata": {},
     "output_type": "display_data"
    }
   ],
   "source": [
    "\n",
    "#predicting the no of cases worldwide for the month of may and plotting the original values against the forecasted values.\n",
    "prediction=model.predict(start=len(train),end=len(train)+len(test)-1,typ='levels')\n",
    "pyplot.figure(figsize = (15,6))\n",
    "pyplot.plot(prediction, color ='red',label = 'Predicted')\n",
    "pyplot.plot(test,color='green', label = 'Test')\n",
    "print(prediction)\n"
   ]
  },
  {
   "cell_type": "code",
   "execution_count": 250,
   "id": "b2f56d21",
   "metadata": {},
   "outputs": [
    {
     "name": "stdout",
     "output_type": "stream",
     "text": [
      "444198.7050376852\n",
      "742326.7\n"
     ]
    }
   ],
   "source": [
    "#calculating the root sqared mean error and mean to analyze the accuracy of the model\n",
    "arima_rmse=sqrt(mean_squared_error(test,prediction))\n",
    "print(arima_rmse)\n",
    "print(test.mean())\n"
   ]
  },
  {
   "cell_type": "code",
   "execution_count": 259,
   "id": "5b68e8b0",
   "metadata": {},
   "outputs": [
    {
     "name": "stdout",
     "output_type": "stream",
     "text": [
      " Root Mean Squared Error for Support Vectore Machine:  261286.6293455396\n"
     ]
    }
   ],
   "source": [
    "dataset_rnn[\"Days Since\"]=dataset_rnn.index-dataset_rnn.index.min()\n",
    "train_ml=dataset_rnn.iloc[:57]\n",
    "valid_ml=dataset_rnn.iloc[57:77]\n",
    "\n",
    "svm=SVR(C=1,degree=12,kernel='poly',epsilon=0.02)\n",
    "svm.fit(np.array(dataset_rnn[\"Days Since\"]).reshape(-1,1),np.array(dataset_rnn[\"Confirmed\"]).reshape(-1,1))\n",
    "prediction_valid_svm=svm.predict(np.array(valid_ml[\"Days Since\"]).reshape(-1,1))\n",
    "\n",
    "model_scores = []\n",
    "model_scores.append(np.sqrt(mean_squared_error(valid_ml[\"Confirmed\"],prediction_valid_svm)))\n",
    "svm_rmse = np.sqrt(mean_squared_error(valid_ml[\"Confirmed\"],prediction_valid_svm))\n",
    "print(\" Root Mean Squared Error for Support Vectore Machine: \",svm_rmse)"
   ]
  },
  {
   "cell_type": "code",
   "execution_count": 242,
   "id": "89d05c41",
   "metadata": {},
   "outputs": [
    {
     "data": {
      "application/vnd.plotly.v1+json": {
       "config": {
        "plotlyServerURL": "https://plot.ly"
       },
       "data": [
        {
         "mode": "lines+markers",
         "name": "Train Data for Confirmed Cases",
         "type": "scatter",
         "x": [
          "2020-01-22T00:00:00",
          "2020-01-23T00:00:00",
          "2020-01-24T00:00:00",
          "2020-01-25T00:00:00",
          "2020-01-26T00:00:00",
          "2020-01-27T00:00:00",
          "2020-01-28T00:00:00",
          "2020-01-29T00:00:00",
          "2020-01-30T00:00:00",
          "2020-01-31T00:00:00",
          "2020-02-01T00:00:00",
          "2020-02-02T00:00:00",
          "2020-02-03T00:00:00",
          "2020-02-04T00:00:00",
          "2020-02-05T00:00:00",
          "2020-02-06T00:00:00",
          "2020-02-07T00:00:00",
          "2020-02-08T00:00:00",
          "2020-02-09T00:00:00",
          "2020-02-10T00:00:00",
          "2020-02-11T00:00:00",
          "2020-02-12T00:00:00",
          "2020-02-13T00:00:00",
          "2020-02-14T00:00:00",
          "2020-02-15T00:00:00",
          "2020-02-16T00:00:00",
          "2020-02-17T00:00:00",
          "2020-02-18T00:00:00",
          "2020-02-19T00:00:00",
          "2020-02-20T00:00:00",
          "2020-02-21T00:00:00",
          "2020-02-22T00:00:00",
          "2020-02-23T00:00:00",
          "2020-02-24T00:00:00",
          "2020-02-25T00:00:00",
          "2020-02-26T00:00:00",
          "2020-02-27T00:00:00",
          "2020-02-28T00:00:00",
          "2020-02-29T00:00:00",
          "2020-03-01T00:00:00",
          "2020-03-02T00:00:00",
          "2020-03-03T00:00:00",
          "2020-03-04T00:00:00",
          "2020-03-05T00:00:00",
          "2020-03-06T00:00:00",
          "2020-03-07T00:00:00",
          "2020-03-08T00:00:00",
          "2020-03-09T00:00:00",
          "2020-03-10T00:00:00",
          "2020-03-11T00:00:00",
          "2020-03-12T00:00:00",
          "2020-03-13T00:00:00",
          "2020-03-14T00:00:00",
          "2020-03-15T00:00:00",
          "2020-03-16T00:00:00",
          "2020-03-17T00:00:00",
          "2020-03-18T00:00:00",
          "2020-03-19T00:00:00",
          "2020-03-20T00:00:00",
          "2020-03-21T00:00:00",
          "2020-03-22T00:00:00",
          "2020-03-23T00:00:00",
          "2020-03-24T00:00:00",
          "2020-03-25T00:00:00",
          "2020-03-26T00:00:00",
          "2020-03-27T00:00:00",
          "2020-03-28T00:00:00",
          "2020-03-29T00:00:00",
          "2020-03-30T00:00:00",
          "2020-03-31T00:00:00",
          "2020-04-01T00:00:00",
          "2020-04-02T00:00:00",
          "2020-04-03T00:00:00",
          "2020-04-04T00:00:00",
          "2020-04-05T00:00:00",
          "2020-04-06T00:00:00",
          "2020-04-07T00:00:00",
          "2020-04-08T00:00:00",
          "2020-04-09T00:00:00",
          "2020-04-10T00:00:00"
         ],
         "y": [
          555,
          653,
          941,
          1438,
          2118,
          2927,
          5578,
          6165,
          8235,
          9925,
          12038,
          16787,
          19881,
          23892,
          27636,
          30818,
          34392,
          37121,
          40151,
          42763,
          44803,
          45222,
          60370,
          66887,
          69032,
          71226,
          73260,
          75138,
          75641,
          76199,
          76843,
          78599,
          78985,
          79570,
          80415,
          81397,
          82756,
          84124,
          86013,
          88371,
          90309,
          92844,
          95124,
          97886,
          101800,
          105836,
          109835,
          113582,
          118582,
          125865,
          128343,
          145193,
          156099,
          167447,
          181546,
          197168,
          214915,
          242713,
          272167,
          304549,
          337122,
          378287,
          417966,
          467594,
          529591,
          593291,
          660693,
          720140,
          782389,
          857487,
          932605,
          1013303,
          1095917,
          1197408,
          1272115,
          1345101,
          1426096,
          1511104,
          1595350,
          1691719
         ]
        },
        {
         "line": {
          "color": "black",
          "dash": "dot"
         },
         "mode": "lines",
         "name": "Support Vector Machine Best fit Kernel",
         "type": "scatter",
         "x": [
          "2020-01-22T00:00:00",
          "2020-01-23T00:00:00",
          "2020-01-24T00:00:00",
          "2020-01-25T00:00:00",
          "2020-01-26T00:00:00",
          "2020-01-27T00:00:00",
          "2020-01-28T00:00:00",
          "2020-01-29T00:00:00",
          "2020-01-30T00:00:00",
          "2020-01-31T00:00:00",
          "2020-02-01T00:00:00",
          "2020-02-02T00:00:00",
          "2020-02-03T00:00:00",
          "2020-02-04T00:00:00",
          "2020-02-05T00:00:00",
          "2020-02-06T00:00:00",
          "2020-02-07T00:00:00",
          "2020-02-08T00:00:00",
          "2020-02-09T00:00:00",
          "2020-02-10T00:00:00",
          "2020-02-11T00:00:00",
          "2020-02-12T00:00:00",
          "2020-02-13T00:00:00",
          "2020-02-14T00:00:00",
          "2020-02-15T00:00:00",
          "2020-02-16T00:00:00",
          "2020-02-17T00:00:00",
          "2020-02-18T00:00:00",
          "2020-02-19T00:00:00",
          "2020-02-20T00:00:00",
          "2020-02-21T00:00:00",
          "2020-02-22T00:00:00",
          "2020-02-23T00:00:00",
          "2020-02-24T00:00:00",
          "2020-02-25T00:00:00",
          "2020-02-26T00:00:00",
          "2020-02-27T00:00:00",
          "2020-02-28T00:00:00",
          "2020-02-29T00:00:00",
          "2020-03-01T00:00:00",
          "2020-03-02T00:00:00",
          "2020-03-03T00:00:00",
          "2020-03-04T00:00:00",
          "2020-03-05T00:00:00",
          "2020-03-06T00:00:00",
          "2020-03-07T00:00:00",
          "2020-03-08T00:00:00",
          "2020-03-09T00:00:00",
          "2020-03-10T00:00:00",
          "2020-03-11T00:00:00",
          "2020-03-12T00:00:00",
          "2020-03-13T00:00:00",
          "2020-03-14T00:00:00",
          "2020-03-15T00:00:00",
          "2020-03-16T00:00:00",
          "2020-03-17T00:00:00",
          "2020-03-18T00:00:00",
          "2020-03-19T00:00:00",
          "2020-03-20T00:00:00",
          "2020-03-21T00:00:00",
          "2020-03-22T00:00:00",
          "2020-03-23T00:00:00",
          "2020-03-24T00:00:00",
          "2020-03-25T00:00:00",
          "2020-03-26T00:00:00",
          "2020-03-27T00:00:00",
          "2020-03-28T00:00:00",
          "2020-03-29T00:00:00",
          "2020-03-30T00:00:00",
          "2020-03-31T00:00:00",
          "2020-04-01T00:00:00",
          "2020-04-02T00:00:00",
          "2020-04-03T00:00:00",
          "2020-04-04T00:00:00",
          "2020-04-05T00:00:00",
          "2020-04-06T00:00:00",
          "2020-04-07T00:00:00",
          "2020-04-08T00:00:00",
          "2020-04-09T00:00:00",
          "2020-04-10T00:00:00"
         ],
         "y": [
          81254.33947856342,
          81254.33947856342,
          81254.33947856342,
          81254.33947856343,
          81254.33947856403,
          81254.33947857223,
          81254.3394786421,
          81254.33947906374,
          81254.33948104744,
          81254.3394887725,
          81254.3395147108,
          81254.33959200939,
          81254.33980085714,
          81254.34032072828,
          81254.34152790012,
          81254.3441685542,
          81254.3496531478,
          81254.36053883383,
          81254.38129499284,
          81254.41948411077,
          81254.48753825245,
          81254.6053724948,
          81254.80415329373,
          81255.1316349361,
          81255.65959363607,
          81256.49403061614,
          81257.78898583342,
          81259.76500712697,
          81262.73356171315,
          81267.12895775949,
          81273.54968081032,
          81282.8114288858,
          81296.01457623755,
          81314.62932343398,
          81340.60234619294,
          81376.4894647113,
          81425.619573485,
          81492.2959783784,
          81582.04220051681,
          81701.90041620647,
          81860.79196484004,
          82069.95064980899,
          82343.44102151309,
          82698.77565963184,
          83157.64717395221,
          83746.79289252673,
          84499.01198108112,
          85454.3577776662,
          86661.53081614886,
          88179.5000735036,
          90079.38468654071,
          92446.63060862933,
          95383.52125651752,
          99012.06427104388,
          103477.3044749013,
          108951.11160380756,
          115636.50405986224,
          123772.56720073138,
          133640.04626567278,
          145567.67385966692,
          159939.3278818837,
          177202.11419780168,
          197875.4479990712,
          222561.2755747548,
          251955.5395518056,
          286860.99511821184,
          328201.54406840715,
          377038.2321787587,
          434587.0452891103,
          502238.7115488759,
          581580.6827402822,
          674421.4617930165,
          782817.6082773915,
          909103.4893809072,
          1055924.162720751,
          1226271.6348887198,
          1423524.6885996573,
          1651492.727173876,
          1914463.940064501,
          2217257.965455126
         ]
        }
       ],
       "layout": {
        "legend": {
         "traceorder": "normal",
         "x": 0,
         "y": 1
        },
        "template": {
         "data": {
          "bar": [
           {
            "error_x": {
             "color": "#2a3f5f"
            },
            "error_y": {
             "color": "#2a3f5f"
            },
            "marker": {
             "line": {
              "color": "#E5ECF6",
              "width": 0.5
             },
             "pattern": {
              "fillmode": "overlay",
              "size": 10,
              "solidity": 0.2
             }
            },
            "type": "bar"
           }
          ],
          "barpolar": [
           {
            "marker": {
             "line": {
              "color": "#E5ECF6",
              "width": 0.5
             },
             "pattern": {
              "fillmode": "overlay",
              "size": 10,
              "solidity": 0.2
             }
            },
            "type": "barpolar"
           }
          ],
          "carpet": [
           {
            "aaxis": {
             "endlinecolor": "#2a3f5f",
             "gridcolor": "white",
             "linecolor": "white",
             "minorgridcolor": "white",
             "startlinecolor": "#2a3f5f"
            },
            "baxis": {
             "endlinecolor": "#2a3f5f",
             "gridcolor": "white",
             "linecolor": "white",
             "minorgridcolor": "white",
             "startlinecolor": "#2a3f5f"
            },
            "type": "carpet"
           }
          ],
          "choropleth": [
           {
            "colorbar": {
             "outlinewidth": 0,
             "ticks": ""
            },
            "type": "choropleth"
           }
          ],
          "contour": [
           {
            "colorbar": {
             "outlinewidth": 0,
             "ticks": ""
            },
            "colorscale": [
             [
              0,
              "#0d0887"
             ],
             [
              0.1111111111111111,
              "#46039f"
             ],
             [
              0.2222222222222222,
              "#7201a8"
             ],
             [
              0.3333333333333333,
              "#9c179e"
             ],
             [
              0.4444444444444444,
              "#bd3786"
             ],
             [
              0.5555555555555556,
              "#d8576b"
             ],
             [
              0.6666666666666666,
              "#ed7953"
             ],
             [
              0.7777777777777778,
              "#fb9f3a"
             ],
             [
              0.8888888888888888,
              "#fdca26"
             ],
             [
              1,
              "#f0f921"
             ]
            ],
            "type": "contour"
           }
          ],
          "contourcarpet": [
           {
            "colorbar": {
             "outlinewidth": 0,
             "ticks": ""
            },
            "type": "contourcarpet"
           }
          ],
          "heatmap": [
           {
            "colorbar": {
             "outlinewidth": 0,
             "ticks": ""
            },
            "colorscale": [
             [
              0,
              "#0d0887"
             ],
             [
              0.1111111111111111,
              "#46039f"
             ],
             [
              0.2222222222222222,
              "#7201a8"
             ],
             [
              0.3333333333333333,
              "#9c179e"
             ],
             [
              0.4444444444444444,
              "#bd3786"
             ],
             [
              0.5555555555555556,
              "#d8576b"
             ],
             [
              0.6666666666666666,
              "#ed7953"
             ],
             [
              0.7777777777777778,
              "#fb9f3a"
             ],
             [
              0.8888888888888888,
              "#fdca26"
             ],
             [
              1,
              "#f0f921"
             ]
            ],
            "type": "heatmap"
           }
          ],
          "heatmapgl": [
           {
            "colorbar": {
             "outlinewidth": 0,
             "ticks": ""
            },
            "colorscale": [
             [
              0,
              "#0d0887"
             ],
             [
              0.1111111111111111,
              "#46039f"
             ],
             [
              0.2222222222222222,
              "#7201a8"
             ],
             [
              0.3333333333333333,
              "#9c179e"
             ],
             [
              0.4444444444444444,
              "#bd3786"
             ],
             [
              0.5555555555555556,
              "#d8576b"
             ],
             [
              0.6666666666666666,
              "#ed7953"
             ],
             [
              0.7777777777777778,
              "#fb9f3a"
             ],
             [
              0.8888888888888888,
              "#fdca26"
             ],
             [
              1,
              "#f0f921"
             ]
            ],
            "type": "heatmapgl"
           }
          ],
          "histogram": [
           {
            "marker": {
             "pattern": {
              "fillmode": "overlay",
              "size": 10,
              "solidity": 0.2
             }
            },
            "type": "histogram"
           }
          ],
          "histogram2d": [
           {
            "colorbar": {
             "outlinewidth": 0,
             "ticks": ""
            },
            "colorscale": [
             [
              0,
              "#0d0887"
             ],
             [
              0.1111111111111111,
              "#46039f"
             ],
             [
              0.2222222222222222,
              "#7201a8"
             ],
             [
              0.3333333333333333,
              "#9c179e"
             ],
             [
              0.4444444444444444,
              "#bd3786"
             ],
             [
              0.5555555555555556,
              "#d8576b"
             ],
             [
              0.6666666666666666,
              "#ed7953"
             ],
             [
              0.7777777777777778,
              "#fb9f3a"
             ],
             [
              0.8888888888888888,
              "#fdca26"
             ],
             [
              1,
              "#f0f921"
             ]
            ],
            "type": "histogram2d"
           }
          ],
          "histogram2dcontour": [
           {
            "colorbar": {
             "outlinewidth": 0,
             "ticks": ""
            },
            "colorscale": [
             [
              0,
              "#0d0887"
             ],
             [
              0.1111111111111111,
              "#46039f"
             ],
             [
              0.2222222222222222,
              "#7201a8"
             ],
             [
              0.3333333333333333,
              "#9c179e"
             ],
             [
              0.4444444444444444,
              "#bd3786"
             ],
             [
              0.5555555555555556,
              "#d8576b"
             ],
             [
              0.6666666666666666,
              "#ed7953"
             ],
             [
              0.7777777777777778,
              "#fb9f3a"
             ],
             [
              0.8888888888888888,
              "#fdca26"
             ],
             [
              1,
              "#f0f921"
             ]
            ],
            "type": "histogram2dcontour"
           }
          ],
          "mesh3d": [
           {
            "colorbar": {
             "outlinewidth": 0,
             "ticks": ""
            },
            "type": "mesh3d"
           }
          ],
          "parcoords": [
           {
            "line": {
             "colorbar": {
              "outlinewidth": 0,
              "ticks": ""
             }
            },
            "type": "parcoords"
           }
          ],
          "pie": [
           {
            "automargin": true,
            "type": "pie"
           }
          ],
          "scatter": [
           {
            "fillpattern": {
             "fillmode": "overlay",
             "size": 10,
             "solidity": 0.2
            },
            "type": "scatter"
           }
          ],
          "scatter3d": [
           {
            "line": {
             "colorbar": {
              "outlinewidth": 0,
              "ticks": ""
             }
            },
            "marker": {
             "colorbar": {
              "outlinewidth": 0,
              "ticks": ""
             }
            },
            "type": "scatter3d"
           }
          ],
          "scattercarpet": [
           {
            "marker": {
             "colorbar": {
              "outlinewidth": 0,
              "ticks": ""
             }
            },
            "type": "scattercarpet"
           }
          ],
          "scattergeo": [
           {
            "marker": {
             "colorbar": {
              "outlinewidth": 0,
              "ticks": ""
             }
            },
            "type": "scattergeo"
           }
          ],
          "scattergl": [
           {
            "marker": {
             "colorbar": {
              "outlinewidth": 0,
              "ticks": ""
             }
            },
            "type": "scattergl"
           }
          ],
          "scattermapbox": [
           {
            "marker": {
             "colorbar": {
              "outlinewidth": 0,
              "ticks": ""
             }
            },
            "type": "scattermapbox"
           }
          ],
          "scatterpolar": [
           {
            "marker": {
             "colorbar": {
              "outlinewidth": 0,
              "ticks": ""
             }
            },
            "type": "scatterpolar"
           }
          ],
          "scatterpolargl": [
           {
            "marker": {
             "colorbar": {
              "outlinewidth": 0,
              "ticks": ""
             }
            },
            "type": "scatterpolargl"
           }
          ],
          "scatterternary": [
           {
            "marker": {
             "colorbar": {
              "outlinewidth": 0,
              "ticks": ""
             }
            },
            "type": "scatterternary"
           }
          ],
          "surface": [
           {
            "colorbar": {
             "outlinewidth": 0,
             "ticks": ""
            },
            "colorscale": [
             [
              0,
              "#0d0887"
             ],
             [
              0.1111111111111111,
              "#46039f"
             ],
             [
              0.2222222222222222,
              "#7201a8"
             ],
             [
              0.3333333333333333,
              "#9c179e"
             ],
             [
              0.4444444444444444,
              "#bd3786"
             ],
             [
              0.5555555555555556,
              "#d8576b"
             ],
             [
              0.6666666666666666,
              "#ed7953"
             ],
             [
              0.7777777777777778,
              "#fb9f3a"
             ],
             [
              0.8888888888888888,
              "#fdca26"
             ],
             [
              1,
              "#f0f921"
             ]
            ],
            "type": "surface"
           }
          ],
          "table": [
           {
            "cells": {
             "fill": {
              "color": "#EBF0F8"
             },
             "line": {
              "color": "white"
             }
            },
            "header": {
             "fill": {
              "color": "#C8D4E3"
             },
             "line": {
              "color": "white"
             }
            },
            "type": "table"
           }
          ]
         },
         "layout": {
          "annotationdefaults": {
           "arrowcolor": "#2a3f5f",
           "arrowhead": 0,
           "arrowwidth": 1
          },
          "autotypenumbers": "strict",
          "coloraxis": {
           "colorbar": {
            "outlinewidth": 0,
            "ticks": ""
           }
          },
          "colorscale": {
           "diverging": [
            [
             0,
             "#8e0152"
            ],
            [
             0.1,
             "#c51b7d"
            ],
            [
             0.2,
             "#de77ae"
            ],
            [
             0.3,
             "#f1b6da"
            ],
            [
             0.4,
             "#fde0ef"
            ],
            [
             0.5,
             "#f7f7f7"
            ],
            [
             0.6,
             "#e6f5d0"
            ],
            [
             0.7,
             "#b8e186"
            ],
            [
             0.8,
             "#7fbc41"
            ],
            [
             0.9,
             "#4d9221"
            ],
            [
             1,
             "#276419"
            ]
           ],
           "sequential": [
            [
             0,
             "#0d0887"
            ],
            [
             0.1111111111111111,
             "#46039f"
            ],
            [
             0.2222222222222222,
             "#7201a8"
            ],
            [
             0.3333333333333333,
             "#9c179e"
            ],
            [
             0.4444444444444444,
             "#bd3786"
            ],
            [
             0.5555555555555556,
             "#d8576b"
            ],
            [
             0.6666666666666666,
             "#ed7953"
            ],
            [
             0.7777777777777778,
             "#fb9f3a"
            ],
            [
             0.8888888888888888,
             "#fdca26"
            ],
            [
             1,
             "#f0f921"
            ]
           ],
           "sequentialminus": [
            [
             0,
             "#0d0887"
            ],
            [
             0.1111111111111111,
             "#46039f"
            ],
            [
             0.2222222222222222,
             "#7201a8"
            ],
            [
             0.3333333333333333,
             "#9c179e"
            ],
            [
             0.4444444444444444,
             "#bd3786"
            ],
            [
             0.5555555555555556,
             "#d8576b"
            ],
            [
             0.6666666666666666,
             "#ed7953"
            ],
            [
             0.7777777777777778,
             "#fb9f3a"
            ],
            [
             0.8888888888888888,
             "#fdca26"
            ],
            [
             1,
             "#f0f921"
            ]
           ]
          },
          "colorway": [
           "#636efa",
           "#EF553B",
           "#00cc96",
           "#ab63fa",
           "#FFA15A",
           "#19d3f3",
           "#FF6692",
           "#B6E880",
           "#FF97FF",
           "#FECB52"
          ],
          "font": {
           "color": "#2a3f5f"
          },
          "geo": {
           "bgcolor": "white",
           "lakecolor": "white",
           "landcolor": "#E5ECF6",
           "showlakes": true,
           "showland": true,
           "subunitcolor": "white"
          },
          "hoverlabel": {
           "align": "left"
          },
          "hovermode": "closest",
          "mapbox": {
           "style": "light"
          },
          "paper_bgcolor": "white",
          "plot_bgcolor": "#E5ECF6",
          "polar": {
           "angularaxis": {
            "gridcolor": "white",
            "linecolor": "white",
            "ticks": ""
           },
           "bgcolor": "#E5ECF6",
           "radialaxis": {
            "gridcolor": "white",
            "linecolor": "white",
            "ticks": ""
           }
          },
          "scene": {
           "xaxis": {
            "backgroundcolor": "#E5ECF6",
            "gridcolor": "white",
            "gridwidth": 2,
            "linecolor": "white",
            "showbackground": true,
            "ticks": "",
            "zerolinecolor": "white"
           },
           "yaxis": {
            "backgroundcolor": "#E5ECF6",
            "gridcolor": "white",
            "gridwidth": 2,
            "linecolor": "white",
            "showbackground": true,
            "ticks": "",
            "zerolinecolor": "white"
           },
           "zaxis": {
            "backgroundcolor": "#E5ECF6",
            "gridcolor": "white",
            "gridwidth": 2,
            "linecolor": "white",
            "showbackground": true,
            "ticks": "",
            "zerolinecolor": "white"
           }
          },
          "shapedefaults": {
           "line": {
            "color": "#2a3f5f"
           }
          },
          "ternary": {
           "aaxis": {
            "gridcolor": "white",
            "linecolor": "white",
            "ticks": ""
           },
           "baxis": {
            "gridcolor": "white",
            "linecolor": "white",
            "ticks": ""
           },
           "bgcolor": "#E5ECF6",
           "caxis": {
            "gridcolor": "white",
            "linecolor": "white",
            "ticks": ""
           }
          },
          "title": {
           "x": 0.05
          },
          "xaxis": {
           "automargin": true,
           "gridcolor": "white",
           "linecolor": "white",
           "ticks": "",
           "title": {
            "standoff": 15
           },
           "zerolinecolor": "white",
           "zerolinewidth": 2
          },
          "yaxis": {
           "automargin": true,
           "gridcolor": "white",
           "linecolor": "white",
           "ticks": "",
           "title": {
            "standoff": 15
           },
           "zerolinecolor": "white",
           "zerolinewidth": 2
          }
         }
        },
        "title": {
         "text": "Confirmed Cases Support Vectore Machine Regressor Prediction"
        },
        "xaxis": {
         "title": {
          "text": "Date"
         }
        },
        "yaxis": {
         "title": {
          "text": "Confirmed Cases"
         }
        }
       }
      },
      "text/html": [
       "<div>                            <div id=\"42061cb4-0567-43a9-966d-6670df504f07\" class=\"plotly-graph-div\" style=\"height:525px; width:100%;\"></div>            <script type=\"text/javascript\">                require([\"plotly\"], function(Plotly) {                    window.PLOTLYENV=window.PLOTLYENV || {};                                    if (document.getElementById(\"42061cb4-0567-43a9-966d-6670df504f07\")) {                    Plotly.newPlot(                        \"42061cb4-0567-43a9-966d-6670df504f07\",                        [{\"mode\":\"lines+markers\",\"name\":\"Train Data for Confirmed Cases\",\"x\":[\"2020-01-22T00:00:00\",\"2020-01-23T00:00:00\",\"2020-01-24T00:00:00\",\"2020-01-25T00:00:00\",\"2020-01-26T00:00:00\",\"2020-01-27T00:00:00\",\"2020-01-28T00:00:00\",\"2020-01-29T00:00:00\",\"2020-01-30T00:00:00\",\"2020-01-31T00:00:00\",\"2020-02-01T00:00:00\",\"2020-02-02T00:00:00\",\"2020-02-03T00:00:00\",\"2020-02-04T00:00:00\",\"2020-02-05T00:00:00\",\"2020-02-06T00:00:00\",\"2020-02-07T00:00:00\",\"2020-02-08T00:00:00\",\"2020-02-09T00:00:00\",\"2020-02-10T00:00:00\",\"2020-02-11T00:00:00\",\"2020-02-12T00:00:00\",\"2020-02-13T00:00:00\",\"2020-02-14T00:00:00\",\"2020-02-15T00:00:00\",\"2020-02-16T00:00:00\",\"2020-02-17T00:00:00\",\"2020-02-18T00:00:00\",\"2020-02-19T00:00:00\",\"2020-02-20T00:00:00\",\"2020-02-21T00:00:00\",\"2020-02-22T00:00:00\",\"2020-02-23T00:00:00\",\"2020-02-24T00:00:00\",\"2020-02-25T00:00:00\",\"2020-02-26T00:00:00\",\"2020-02-27T00:00:00\",\"2020-02-28T00:00:00\",\"2020-02-29T00:00:00\",\"2020-03-01T00:00:00\",\"2020-03-02T00:00:00\",\"2020-03-03T00:00:00\",\"2020-03-04T00:00:00\",\"2020-03-05T00:00:00\",\"2020-03-06T00:00:00\",\"2020-03-07T00:00:00\",\"2020-03-08T00:00:00\",\"2020-03-09T00:00:00\",\"2020-03-10T00:00:00\",\"2020-03-11T00:00:00\",\"2020-03-12T00:00:00\",\"2020-03-13T00:00:00\",\"2020-03-14T00:00:00\",\"2020-03-15T00:00:00\",\"2020-03-16T00:00:00\",\"2020-03-17T00:00:00\",\"2020-03-18T00:00:00\",\"2020-03-19T00:00:00\",\"2020-03-20T00:00:00\",\"2020-03-21T00:00:00\",\"2020-03-22T00:00:00\",\"2020-03-23T00:00:00\",\"2020-03-24T00:00:00\",\"2020-03-25T00:00:00\",\"2020-03-26T00:00:00\",\"2020-03-27T00:00:00\",\"2020-03-28T00:00:00\",\"2020-03-29T00:00:00\",\"2020-03-30T00:00:00\",\"2020-03-31T00:00:00\",\"2020-04-01T00:00:00\",\"2020-04-02T00:00:00\",\"2020-04-03T00:00:00\",\"2020-04-04T00:00:00\",\"2020-04-05T00:00:00\",\"2020-04-06T00:00:00\",\"2020-04-07T00:00:00\",\"2020-04-08T00:00:00\",\"2020-04-09T00:00:00\",\"2020-04-10T00:00:00\"],\"y\":[555.0,653.0,941.0,1438.0,2118.0,2927.0,5578.0,6165.0,8235.0,9925.0,12038.0,16787.0,19881.0,23892.0,27636.0,30818.0,34392.0,37121.0,40151.0,42763.0,44803.0,45222.0,60370.0,66887.0,69032.0,71226.0,73260.0,75138.0,75641.0,76199.0,76843.0,78599.0,78985.0,79570.0,80415.0,81397.0,82756.0,84124.0,86013.0,88371.0,90309.0,92844.0,95124.0,97886.0,101800.0,105836.0,109835.0,113582.0,118582.0,125865.0,128343.0,145193.0,156099.0,167447.0,181546.0,197168.0,214915.0,242713.0,272167.0,304549.0,337122.0,378287.0,417966.0,467594.0,529591.0,593291.0,660693.0,720140.0,782389.0,857487.0,932605.0,1013303.0,1095917.0,1197408.0,1272115.0,1345101.0,1426096.0,1511104.0,1595350.0,1691719.0],\"type\":\"scatter\"},{\"line\":{\"color\":\"black\",\"dash\":\"dot\"},\"mode\":\"lines\",\"name\":\"Support Vector Machine Best fit Kernel\",\"x\":[\"2020-01-22T00:00:00\",\"2020-01-23T00:00:00\",\"2020-01-24T00:00:00\",\"2020-01-25T00:00:00\",\"2020-01-26T00:00:00\",\"2020-01-27T00:00:00\",\"2020-01-28T00:00:00\",\"2020-01-29T00:00:00\",\"2020-01-30T00:00:00\",\"2020-01-31T00:00:00\",\"2020-02-01T00:00:00\",\"2020-02-02T00:00:00\",\"2020-02-03T00:00:00\",\"2020-02-04T00:00:00\",\"2020-02-05T00:00:00\",\"2020-02-06T00:00:00\",\"2020-02-07T00:00:00\",\"2020-02-08T00:00:00\",\"2020-02-09T00:00:00\",\"2020-02-10T00:00:00\",\"2020-02-11T00:00:00\",\"2020-02-12T00:00:00\",\"2020-02-13T00:00:00\",\"2020-02-14T00:00:00\",\"2020-02-15T00:00:00\",\"2020-02-16T00:00:00\",\"2020-02-17T00:00:00\",\"2020-02-18T00:00:00\",\"2020-02-19T00:00:00\",\"2020-02-20T00:00:00\",\"2020-02-21T00:00:00\",\"2020-02-22T00:00:00\",\"2020-02-23T00:00:00\",\"2020-02-24T00:00:00\",\"2020-02-25T00:00:00\",\"2020-02-26T00:00:00\",\"2020-02-27T00:00:00\",\"2020-02-28T00:00:00\",\"2020-02-29T00:00:00\",\"2020-03-01T00:00:00\",\"2020-03-02T00:00:00\",\"2020-03-03T00:00:00\",\"2020-03-04T00:00:00\",\"2020-03-05T00:00:00\",\"2020-03-06T00:00:00\",\"2020-03-07T00:00:00\",\"2020-03-08T00:00:00\",\"2020-03-09T00:00:00\",\"2020-03-10T00:00:00\",\"2020-03-11T00:00:00\",\"2020-03-12T00:00:00\",\"2020-03-13T00:00:00\",\"2020-03-14T00:00:00\",\"2020-03-15T00:00:00\",\"2020-03-16T00:00:00\",\"2020-03-17T00:00:00\",\"2020-03-18T00:00:00\",\"2020-03-19T00:00:00\",\"2020-03-20T00:00:00\",\"2020-03-21T00:00:00\",\"2020-03-22T00:00:00\",\"2020-03-23T00:00:00\",\"2020-03-24T00:00:00\",\"2020-03-25T00:00:00\",\"2020-03-26T00:00:00\",\"2020-03-27T00:00:00\",\"2020-03-28T00:00:00\",\"2020-03-29T00:00:00\",\"2020-03-30T00:00:00\",\"2020-03-31T00:00:00\",\"2020-04-01T00:00:00\",\"2020-04-02T00:00:00\",\"2020-04-03T00:00:00\",\"2020-04-04T00:00:00\",\"2020-04-05T00:00:00\",\"2020-04-06T00:00:00\",\"2020-04-07T00:00:00\",\"2020-04-08T00:00:00\",\"2020-04-09T00:00:00\",\"2020-04-10T00:00:00\"],\"y\":[81254.33947856342,81254.33947856342,81254.33947856342,81254.33947856343,81254.33947856403,81254.33947857223,81254.3394786421,81254.33947906374,81254.33948104744,81254.3394887725,81254.3395147108,81254.33959200939,81254.33980085714,81254.34032072828,81254.34152790012,81254.3441685542,81254.3496531478,81254.36053883383,81254.38129499284,81254.41948411077,81254.48753825245,81254.6053724948,81254.80415329373,81255.1316349361,81255.65959363607,81256.49403061614,81257.78898583342,81259.76500712697,81262.73356171315,81267.12895775949,81273.54968081032,81282.8114288858,81296.01457623755,81314.62932343398,81340.60234619294,81376.4894647113,81425.619573485,81492.2959783784,81582.04220051681,81701.90041620647,81860.79196484004,82069.95064980899,82343.44102151309,82698.77565963184,83157.64717395221,83746.79289252673,84499.01198108112,85454.3577776662,86661.53081614886,88179.5000735036,90079.38468654071,92446.63060862933,95383.52125651752,99012.06427104388,103477.3044749013,108951.11160380756,115636.50405986224,123772.56720073138,133640.04626567278,145567.67385966692,159939.3278818837,177202.11419780168,197875.4479990712,222561.2755747548,251955.5395518056,286860.99511821184,328201.54406840715,377038.2321787587,434587.0452891103,502238.7115488759,581580.6827402822,674421.4617930165,782817.6082773915,909103.4893809072,1055924.162720751,1226271.6348887198,1423524.6885996573,1651492.727173876,1914463.940064501,2217257.965455126],\"type\":\"scatter\"}],                        {\"template\":{\"data\":{\"histogram2dcontour\":[{\"type\":\"histogram2dcontour\",\"colorbar\":{\"outlinewidth\":0,\"ticks\":\"\"},\"colorscale\":[[0.0,\"#0d0887\"],[0.1111111111111111,\"#46039f\"],[0.2222222222222222,\"#7201a8\"],[0.3333333333333333,\"#9c179e\"],[0.4444444444444444,\"#bd3786\"],[0.5555555555555556,\"#d8576b\"],[0.6666666666666666,\"#ed7953\"],[0.7777777777777778,\"#fb9f3a\"],[0.8888888888888888,\"#fdca26\"],[1.0,\"#f0f921\"]]}],\"choropleth\":[{\"type\":\"choropleth\",\"colorbar\":{\"outlinewidth\":0,\"ticks\":\"\"}}],\"histogram2d\":[{\"type\":\"histogram2d\",\"colorbar\":{\"outlinewidth\":0,\"ticks\":\"\"},\"colorscale\":[[0.0,\"#0d0887\"],[0.1111111111111111,\"#46039f\"],[0.2222222222222222,\"#7201a8\"],[0.3333333333333333,\"#9c179e\"],[0.4444444444444444,\"#bd3786\"],[0.5555555555555556,\"#d8576b\"],[0.6666666666666666,\"#ed7953\"],[0.7777777777777778,\"#fb9f3a\"],[0.8888888888888888,\"#fdca26\"],[1.0,\"#f0f921\"]]}],\"heatmap\":[{\"type\":\"heatmap\",\"colorbar\":{\"outlinewidth\":0,\"ticks\":\"\"},\"colorscale\":[[0.0,\"#0d0887\"],[0.1111111111111111,\"#46039f\"],[0.2222222222222222,\"#7201a8\"],[0.3333333333333333,\"#9c179e\"],[0.4444444444444444,\"#bd3786\"],[0.5555555555555556,\"#d8576b\"],[0.6666666666666666,\"#ed7953\"],[0.7777777777777778,\"#fb9f3a\"],[0.8888888888888888,\"#fdca26\"],[1.0,\"#f0f921\"]]}],\"heatmapgl\":[{\"type\":\"heatmapgl\",\"colorbar\":{\"outlinewidth\":0,\"ticks\":\"\"},\"colorscale\":[[0.0,\"#0d0887\"],[0.1111111111111111,\"#46039f\"],[0.2222222222222222,\"#7201a8\"],[0.3333333333333333,\"#9c179e\"],[0.4444444444444444,\"#bd3786\"],[0.5555555555555556,\"#d8576b\"],[0.6666666666666666,\"#ed7953\"],[0.7777777777777778,\"#fb9f3a\"],[0.8888888888888888,\"#fdca26\"],[1.0,\"#f0f921\"]]}],\"contourcarpet\":[{\"type\":\"contourcarpet\",\"colorbar\":{\"outlinewidth\":0,\"ticks\":\"\"}}],\"contour\":[{\"type\":\"contour\",\"colorbar\":{\"outlinewidth\":0,\"ticks\":\"\"},\"colorscale\":[[0.0,\"#0d0887\"],[0.1111111111111111,\"#46039f\"],[0.2222222222222222,\"#7201a8\"],[0.3333333333333333,\"#9c179e\"],[0.4444444444444444,\"#bd3786\"],[0.5555555555555556,\"#d8576b\"],[0.6666666666666666,\"#ed7953\"],[0.7777777777777778,\"#fb9f3a\"],[0.8888888888888888,\"#fdca26\"],[1.0,\"#f0f921\"]]}],\"surface\":[{\"type\":\"surface\",\"colorbar\":{\"outlinewidth\":0,\"ticks\":\"\"},\"colorscale\":[[0.0,\"#0d0887\"],[0.1111111111111111,\"#46039f\"],[0.2222222222222222,\"#7201a8\"],[0.3333333333333333,\"#9c179e\"],[0.4444444444444444,\"#bd3786\"],[0.5555555555555556,\"#d8576b\"],[0.6666666666666666,\"#ed7953\"],[0.7777777777777778,\"#fb9f3a\"],[0.8888888888888888,\"#fdca26\"],[1.0,\"#f0f921\"]]}],\"mesh3d\":[{\"type\":\"mesh3d\",\"colorbar\":{\"outlinewidth\":0,\"ticks\":\"\"}}],\"scatter\":[{\"fillpattern\":{\"fillmode\":\"overlay\",\"size\":10,\"solidity\":0.2},\"type\":\"scatter\"}],\"parcoords\":[{\"type\":\"parcoords\",\"line\":{\"colorbar\":{\"outlinewidth\":0,\"ticks\":\"\"}}}],\"scatterpolargl\":[{\"type\":\"scatterpolargl\",\"marker\":{\"colorbar\":{\"outlinewidth\":0,\"ticks\":\"\"}}}],\"bar\":[{\"error_x\":{\"color\":\"#2a3f5f\"},\"error_y\":{\"color\":\"#2a3f5f\"},\"marker\":{\"line\":{\"color\":\"#E5ECF6\",\"width\":0.5},\"pattern\":{\"fillmode\":\"overlay\",\"size\":10,\"solidity\":0.2}},\"type\":\"bar\"}],\"scattergeo\":[{\"type\":\"scattergeo\",\"marker\":{\"colorbar\":{\"outlinewidth\":0,\"ticks\":\"\"}}}],\"scatterpolar\":[{\"type\":\"scatterpolar\",\"marker\":{\"colorbar\":{\"outlinewidth\":0,\"ticks\":\"\"}}}],\"histogram\":[{\"marker\":{\"pattern\":{\"fillmode\":\"overlay\",\"size\":10,\"solidity\":0.2}},\"type\":\"histogram\"}],\"scattergl\":[{\"type\":\"scattergl\",\"marker\":{\"colorbar\":{\"outlinewidth\":0,\"ticks\":\"\"}}}],\"scatter3d\":[{\"type\":\"scatter3d\",\"line\":{\"colorbar\":{\"outlinewidth\":0,\"ticks\":\"\"}},\"marker\":{\"colorbar\":{\"outlinewidth\":0,\"ticks\":\"\"}}}],\"scattermapbox\":[{\"type\":\"scattermapbox\",\"marker\":{\"colorbar\":{\"outlinewidth\":0,\"ticks\":\"\"}}}],\"scatterternary\":[{\"type\":\"scatterternary\",\"marker\":{\"colorbar\":{\"outlinewidth\":0,\"ticks\":\"\"}}}],\"scattercarpet\":[{\"type\":\"scattercarpet\",\"marker\":{\"colorbar\":{\"outlinewidth\":0,\"ticks\":\"\"}}}],\"carpet\":[{\"aaxis\":{\"endlinecolor\":\"#2a3f5f\",\"gridcolor\":\"white\",\"linecolor\":\"white\",\"minorgridcolor\":\"white\",\"startlinecolor\":\"#2a3f5f\"},\"baxis\":{\"endlinecolor\":\"#2a3f5f\",\"gridcolor\":\"white\",\"linecolor\":\"white\",\"minorgridcolor\":\"white\",\"startlinecolor\":\"#2a3f5f\"},\"type\":\"carpet\"}],\"table\":[{\"cells\":{\"fill\":{\"color\":\"#EBF0F8\"},\"line\":{\"color\":\"white\"}},\"header\":{\"fill\":{\"color\":\"#C8D4E3\"},\"line\":{\"color\":\"white\"}},\"type\":\"table\"}],\"barpolar\":[{\"marker\":{\"line\":{\"color\":\"#E5ECF6\",\"width\":0.5},\"pattern\":{\"fillmode\":\"overlay\",\"size\":10,\"solidity\":0.2}},\"type\":\"barpolar\"}],\"pie\":[{\"automargin\":true,\"type\":\"pie\"}]},\"layout\":{\"autotypenumbers\":\"strict\",\"colorway\":[\"#636efa\",\"#EF553B\",\"#00cc96\",\"#ab63fa\",\"#FFA15A\",\"#19d3f3\",\"#FF6692\",\"#B6E880\",\"#FF97FF\",\"#FECB52\"],\"font\":{\"color\":\"#2a3f5f\"},\"hovermode\":\"closest\",\"hoverlabel\":{\"align\":\"left\"},\"paper_bgcolor\":\"white\",\"plot_bgcolor\":\"#E5ECF6\",\"polar\":{\"bgcolor\":\"#E5ECF6\",\"angularaxis\":{\"gridcolor\":\"white\",\"linecolor\":\"white\",\"ticks\":\"\"},\"radialaxis\":{\"gridcolor\":\"white\",\"linecolor\":\"white\",\"ticks\":\"\"}},\"ternary\":{\"bgcolor\":\"#E5ECF6\",\"aaxis\":{\"gridcolor\":\"white\",\"linecolor\":\"white\",\"ticks\":\"\"},\"baxis\":{\"gridcolor\":\"white\",\"linecolor\":\"white\",\"ticks\":\"\"},\"caxis\":{\"gridcolor\":\"white\",\"linecolor\":\"white\",\"ticks\":\"\"}},\"coloraxis\":{\"colorbar\":{\"outlinewidth\":0,\"ticks\":\"\"}},\"colorscale\":{\"sequential\":[[0.0,\"#0d0887\"],[0.1111111111111111,\"#46039f\"],[0.2222222222222222,\"#7201a8\"],[0.3333333333333333,\"#9c179e\"],[0.4444444444444444,\"#bd3786\"],[0.5555555555555556,\"#d8576b\"],[0.6666666666666666,\"#ed7953\"],[0.7777777777777778,\"#fb9f3a\"],[0.8888888888888888,\"#fdca26\"],[1.0,\"#f0f921\"]],\"sequentialminus\":[[0.0,\"#0d0887\"],[0.1111111111111111,\"#46039f\"],[0.2222222222222222,\"#7201a8\"],[0.3333333333333333,\"#9c179e\"],[0.4444444444444444,\"#bd3786\"],[0.5555555555555556,\"#d8576b\"],[0.6666666666666666,\"#ed7953\"],[0.7777777777777778,\"#fb9f3a\"],[0.8888888888888888,\"#fdca26\"],[1.0,\"#f0f921\"]],\"diverging\":[[0,\"#8e0152\"],[0.1,\"#c51b7d\"],[0.2,\"#de77ae\"],[0.3,\"#f1b6da\"],[0.4,\"#fde0ef\"],[0.5,\"#f7f7f7\"],[0.6,\"#e6f5d0\"],[0.7,\"#b8e186\"],[0.8,\"#7fbc41\"],[0.9,\"#4d9221\"],[1,\"#276419\"]]},\"xaxis\":{\"gridcolor\":\"white\",\"linecolor\":\"white\",\"ticks\":\"\",\"title\":{\"standoff\":15},\"zerolinecolor\":\"white\",\"automargin\":true,\"zerolinewidth\":2},\"yaxis\":{\"gridcolor\":\"white\",\"linecolor\":\"white\",\"ticks\":\"\",\"title\":{\"standoff\":15},\"zerolinecolor\":\"white\",\"automargin\":true,\"zerolinewidth\":2},\"scene\":{\"xaxis\":{\"backgroundcolor\":\"#E5ECF6\",\"gridcolor\":\"white\",\"linecolor\":\"white\",\"showbackground\":true,\"ticks\":\"\",\"zerolinecolor\":\"white\",\"gridwidth\":2},\"yaxis\":{\"backgroundcolor\":\"#E5ECF6\",\"gridcolor\":\"white\",\"linecolor\":\"white\",\"showbackground\":true,\"ticks\":\"\",\"zerolinecolor\":\"white\",\"gridwidth\":2},\"zaxis\":{\"backgroundcolor\":\"#E5ECF6\",\"gridcolor\":\"white\",\"linecolor\":\"white\",\"showbackground\":true,\"ticks\":\"\",\"zerolinecolor\":\"white\",\"gridwidth\":2}},\"shapedefaults\":{\"line\":{\"color\":\"#2a3f5f\"}},\"annotationdefaults\":{\"arrowcolor\":\"#2a3f5f\",\"arrowhead\":0,\"arrowwidth\":1},\"geo\":{\"bgcolor\":\"white\",\"landcolor\":\"#E5ECF6\",\"subunitcolor\":\"white\",\"showland\":true,\"showlakes\":true,\"lakecolor\":\"white\"},\"title\":{\"x\":0.05},\"mapbox\":{\"style\":\"light\"}}},\"legend\":{\"x\":0,\"y\":1,\"traceorder\":\"normal\"},\"title\":{\"text\":\"Confirmed Cases Support Vectore Machine Regressor Prediction\"},\"xaxis\":{\"title\":{\"text\":\"Date\"}},\"yaxis\":{\"title\":{\"text\":\"Confirmed Cases\"}}},                        {\"responsive\": true}                    ).then(function(){\n",
       "                            \n",
       "var gd = document.getElementById('42061cb4-0567-43a9-966d-6670df504f07');\n",
       "var x = new MutationObserver(function (mutations, observer) {{\n",
       "        var display = window.getComputedStyle(gd).display;\n",
       "        if (!display || display === 'none') {{\n",
       "            console.log([gd, 'removed!']);\n",
       "            Plotly.purge(gd);\n",
       "            observer.disconnect();\n",
       "        }}\n",
       "}});\n",
       "\n",
       "// Listen for the removal of the full notebook cells\n",
       "var notebookContainer = gd.closest('#notebook-container');\n",
       "if (notebookContainer) {{\n",
       "    x.observe(notebookContainer, {childList: true});\n",
       "}}\n",
       "\n",
       "// Listen for the clearing of the current output cell\n",
       "var outputEl = gd.closest('.output');\n",
       "if (outputEl) {{\n",
       "    x.observe(outputEl, {childList: true});\n",
       "}}\n",
       "\n",
       "                        })                };                });            </script>        </div>"
      ]
     },
     "metadata": {},
     "output_type": "display_data"
    },
    {
     "data": {
      "text/plain": [
       "<Figure size 1100x600 with 0 Axes>"
      ]
     },
     "metadata": {},
     "output_type": "display_data"
    }
   ],
   "source": [
    "plt.figure(figsize=(11,6))\n",
    "prediction_svm=svm.predict(np.array(dataset_rnn[\"Days Since\"]).reshape(-1,1))\n",
    "fig=go.Figure()\n",
    "fig.add_trace(go.Scatter(x=dataset_rnn.index, y=dataset_rnn[\"Confirmed\"],\n",
    "                    mode='lines+markers',name=\"Train Data for Confirmed Cases\"))\n",
    "fig.add_trace(go.Scatter(x=dataset_rnn.index, y=prediction_svm,\n",
    "                    mode='lines',name=\"Support Vector Machine Best fit Kernel\",\n",
    "                    line=dict(color='black', dash='dot')))\n",
    "fig.update_layout(title=\"Confirmed Cases Support Vectore Machine Regressor Prediction\",\n",
    "                 xaxis_title=\"Date\",yaxis_title=\"Confirmed Cases\",legend=dict(x=0,y=1,traceorder=\"normal\"))\n",
    "fig.show()"
   ]
  },
  {
   "cell_type": "code",
   "execution_count": 269,
   "id": "6ab2e058",
   "metadata": {},
   "outputs": [
    {
     "name": "stdout",
     "output_type": "stream",
     "text": [
      "╒═════════╤══════════════╕\n",
      "│ MODEL   │   RMSE VALUE │\n",
      "╞═════════╪══════════════╡\n",
      "│ LSTM    │       105599 │\n",
      "├─────────┼──────────────┤\n",
      "│ ARIMA   │       444199 │\n",
      "├─────────┼──────────────┤\n",
      "│ SVM     │       261287 │\n",
      "╘═════════╧══════════════╛\n"
     ]
    }
   ],
   "source": [
    "from tabulate import tabulate\n",
    "rmse_table = [['LSTM',lstm_rmse], ['ARIMA',arima_rmse], ['SVM', svm_rmse]]\n",
    "head=['MODEL','RMSE VALUE']\n",
    "print(tabulate(rmse_table, headers=head, tablefmt=\"fancy_grid\"))"
   ]
  }
 ],
 "metadata": {
  "kernelspec": {
   "display_name": "Python 3 (ipykernel)",
   "language": "python",
   "name": "python3"
  },
  "language_info": {
   "codemirror_mode": {
    "name": "ipython",
    "version": 3
   },
   "file_extension": ".py",
   "mimetype": "text/x-python",
   "name": "python",
   "nbconvert_exporter": "python",
   "pygments_lexer": "ipython3",
   "version": "3.9.12"
  }
 },
 "nbformat": 4,
 "nbformat_minor": 5
}
